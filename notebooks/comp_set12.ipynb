{
 "cells": [
  {
   "cell_type": "markdown",
   "id": "11942984",
   "metadata": {
    "id": "gprACN0E2fRM",
    "papermill": {
     "duration": 0.02002,
     "end_time": "2025-04-02T14:01:47.746196",
     "exception": false,
     "start_time": "2025-04-02T14:01:47.726176",
     "status": "completed"
    },
    "tags": []
   },
   "source": [
    "# ITC 2007\n"
   ]
  },
  {
   "cell_type": "code",
   "execution_count": 1,
   "id": "f9440615",
   "metadata": {
    "execution": {
     "iopub.execute_input": "2025-04-02T14:01:47.773330Z",
     "iopub.status.busy": "2025-04-02T14:01:47.773071Z",
     "iopub.status.idle": "2025-04-02T14:01:48.783523Z",
     "shell.execute_reply": "2025-04-02T14:01:48.782684Z"
    },
    "id": "N_yOBcbj3Ozx",
    "papermill": {
     "duration": 1.022496,
     "end_time": "2025-04-02T14:01:48.785083",
     "exception": false,
     "start_time": "2025-04-02T14:01:47.762587",
     "status": "completed"
    },
    "tags": []
   },
   "outputs": [
    {
     "name": "stdout",
     "output_type": "stream",
     "text": [
      "Note: you may need to restart the kernel to use updated packages.\n"
     ]
    }
   ],
   "source": [
    "# Installing dependencies\n",
    "%pip install -q amplpy pandas numpy"
   ]
  },
  {
   "cell_type": "code",
   "execution_count": 2,
   "id": "64c5011b",
   "metadata": {
    "colab": {
     "base_uri": "https://localhost:8080/"
    },
    "execution": {
     "iopub.execute_input": "2025-04-02T14:01:48.801712Z",
     "iopub.status.busy": "2025-04-02T14:01:48.801408Z",
     "iopub.status.idle": "2025-04-02T14:01:53.903116Z",
     "shell.execute_reply": "2025-04-02T14:01:53.900486Z"
    },
    "id": "YZotGiKU3RZY",
    "outputId": "39525dbf-e3bd-48a7-ff29-03d7313a8c38",
    "papermill": {
     "duration": 5.114162,
     "end_time": "2025-04-02T14:01:53.906491",
     "exception": false,
     "start_time": "2025-04-02T14:01:48.792329",
     "status": "completed"
    },
    "tags": []
   },
   "outputs": [
    {
     "name": "stdout",
     "output_type": "stream",
     "text": [
      "Licensed to Bundle #6876.7352 expiring 20250415: Decision Support Methods (\"M?todos de Apoio ? Decis?o\"), Jo?o Pedro Pedroso, University of Porto.\n"
     ]
    }
   ],
   "source": [
    "# Google Colab & Kaggle integration\n",
    "from amplpy import AMPL, ampl_notebook\n",
    "\n",
    "ampl = ampl_notebook(\n",
    "    modules=[\"gurobi\"],  # modules to install\n",
    "    license_uuid=\"acf35a17-6898-4d26-ab01-a6cc68a46872\",  # license to use\n",
    ")"
   ]
  },
  {
   "cell_type": "markdown",
   "id": "09bbdadd",
   "metadata": {
    "id": "BZ5JZD0FzXAg",
    "papermill": {
     "duration": 0.012157,
     "end_time": "2025-04-02T14:01:53.939323",
     "exception": false,
     "start_time": "2025-04-02T14:01:53.927166",
     "status": "completed"
    },
    "tags": []
   },
   "source": [
    "## ITC2007 Model\n",
    "\n",
    "Based on the Second International Timetabling Competition: Examination timetabling track:\n",
    "\n",
    "1. Sets and Parameters\n",
    "\n",
    "    Set `EXAM`: set of exams \n",
    "\n",
    "    Parameters:\n",
    "    - `sizeExam {EXAM}`: size of exam e\n",
    "    - `durationExam {EXAM}`: duration of exam e\n",
    "    - `exammFL {EXAM}`: boolean that is 1 iff exam e is subject to Front-Load penalties, 0 otherwise\n",
    "\n",
    "    SET `STUDENT`: set of students\n",
    "\n",
    "    Parameters:\n",
    "    - `sizeStudent {STUDENT}`: size of students within a set of students that have the same exams\n",
    "\n",
    "    SET `STUDENT_EXAMS`: set that contains for each exam the students enrolled in it\n",
    "\n",
    "    SET `DURATION`: set of durations used in exams\n",
    "\n",
    "    Parameters:\n",
    "    - `duration {EXAM, DURATION}`: boolean that is 1 iff exam e has \"duration type\" d\n",
    "\n",
    "    SET `PERIOD`: set of periods\n",
    "\n",
    "    Parameters:\n",
    "    - `durationPeriod {PERIOD}`: duraion of period p\n",
    "    - `periodFL {PERIOD}`: boolean that is 1 iff period p is subject to the FrontLoad penalties\n",
    "    - `weightPeriod {PERIOD}`: weight that specifies the penalty for using period p\n",
    "    - `same_day {PERIOD, PERIOD}`: boolean that is 1 iff periods p and q are in the same day\n",
    "\n",
    "    SET `ROOM`: set of rooms\n",
    "\n",
    "    Parameters:\n",
    "    - `sizeRoom {ROOM}`: size of room r\n",
    "    - `weightRoom {ROOM}`: weight that specifies the penalty for using room r\n",
    "\n",
    "2. Period Related Hard Constraints\n",
    "\n",
    "    SET `AFTER`: a set of pairs of exams\n",
    "    For every pair (e1, e2) ∈ AFTER exam e1 must occur strictly after exam e2\n",
    "\n",
    "    SET `COINCIDENCE`: a set of pairs of exams\n",
    "    For every pair (e1, e2) ∈ COINCIDENCE exam e1 and e2 must occur in the same period\n",
    "\n",
    "    SET `EXCLUSION`: a set of pairs of exams\n",
    "    For every pair (e1, e2) ∈ EXCLUSION exam e1 and e2 must not occur in the same period\n",
    "\n",
    "\n",
    "3. Room Related Hard Constraints\n",
    "\n",
    "    SET `EXCLUSIVE`: a set of exams\n",
    "    For every exam e ∈ EXCLUSIVE, if exam e is assigned to period p and room r then e must be the sole occupier, i.e. no other exam can be assigned to both p and r\n",
    "\n",
    "4. Institutional Weights and Parameters\n",
    "\n",
    "    Parameters:\n",
    "    - `TWOINAROW`: weight for \"two in a row\"\n",
    "    - `TWOINADAY`: weight for \"two in a day\"\n",
    "    - `PERIODSPREAD`: weight for period spread (defaults to 1 as not currently specified in the input format)\n",
    "    - `NONMIXEDDURATIONS`: weight for \"No mixed duration\"\n",
    "    - `FRONTLOAD`: weight for the Front load penalty\n",
    "    - `gPERIODSPREAD`: the period spread, the preferred minimal \"gap\" between exams for a student\n",
    "    \n",
    "5. Variables:\n",
    "\n",
    "    5.1 Primary Decision Variables\n",
    "\n",
    "    - `X_P {EXAM, PERIOD}`: boolean that is 1 if exam i is in period p otherwise 0\n",
    "    - `X_R {EXAM, PERIOD}`: boolean that is 1 if exam i is in room r otherwise 0\n",
    "    - `Y_P {EXAM, PERIOD}`: fraction of students for each room\n",
    "\n",
    "    5.2 Secondary Variables\n",
    "\n",
    "    - `C_2R {STUDENT} >= 0`: two-in-a-row penalty for each student s\n",
    "    - `C_2D {STUDENT} >= 0`: two-in-a-day penalty for each student s\n",
    "    - `C_PS {STUDENT} >= 0`: period spread penalty for each student s\n",
    "    - `C_NMD >= 0`: no mixed duration penalty\n",
    "    - `C_FL >= 0`: front-load penalty\n",
    "    - `C_P >= 0`: soft period penalty\n",
    "    - `C_R >= 0`: soft room penalty\n",
    "\n",
    "6. Objective:\n",
    "    \n",
    "    - `Total_Penalty`: minimise total cost of penalties \n",
    "\n",
    "7. Constraints:\n",
    "\n",
    "    7.1 Hard Constraints:\n",
    "\n",
    "    - `(10) and (11)`: every exam is allocated to at least one room, and to at least one period\n",
    "    - `(12)`: room capacities are always respected \n",
    "    - `(13)`: period durations are respected\n",
    "    - `(14)`: in any period, any student is taking at most one exam\n",
    "    - `(15), (16) and (17)`: hard period constraints\n",
    "    - `(18)`: hard room constraints\n",
    "    - `(29)`:\n",
    "    - `(30)`:\n",
    "\n",
    "    7.2 Soft Constraints:\n",
    "    - `(19)`: two in a row\n",
    "    - `(20)`: two in a day\n",
    "    - `(21)`: period spread\n",
    "    - `(22), (23), (24) and (25)`: non-mixed durations \n",
    "    - `(26)`: front load\n",
    "    - `(27)`: soft period penalties\n",
    "    - `(28)`: soft room penalties\n",
    "\n",
    "This track is then modeled as follows:"
   ]
  },
  {
   "cell_type": "code",
   "execution_count": 3,
   "id": "222b6d2f",
   "metadata": {
    "execution": {
     "iopub.execute_input": "2025-04-02T14:01:53.956416Z",
     "iopub.status.busy": "2025-04-02T14:01:53.955722Z",
     "iopub.status.idle": "2025-04-02T14:01:53.961943Z",
     "shell.execute_reply": "2025-04-02T14:01:53.961204Z"
    },
    "id": "1s-ndj-hZKR1",
    "papermill": {
     "duration": 0.015397,
     "end_time": "2025-04-02T14:01:53.963247",
     "exception": false,
     "start_time": "2025-04-02T14:01:53.947850",
     "status": "completed"
    },
    "tags": []
   },
   "outputs": [],
   "source": [
    "%%ampl_eval\n",
    "reset;\n",
    "set EXAM;\n",
    "\n",
    "param sizeExam {EXAM} >= 0;\n",
    "param durationExam {EXAM} > 0;\n",
    "param examFL {EXAM} binary;\n",
    "\n",
    "set STUDENT;\n",
    "\n",
    "param sizeStudent {STUDENT} > 0;\n",
    "\n",
    "set STUDENT_EXAMS {STUDENT} within EXAM;\n",
    "\n",
    "set DURATION;\n",
    "\n",
    "param duration {EXAM, DURATION} binary;\n",
    "\n",
    "set PERIOD;\n",
    "\n",
    "param durationPeriod {PERIOD} > 0;\n",
    "param periodFL {PERIOD} binary;\n",
    "param weightPeriod {PERIOD} >= 0;\n",
    "\n",
    "param same_day {PERIOD, PERIOD} binary;\n",
    "\n",
    "set ROOM;\n",
    "\n",
    "param sizeRoom {ROOM} > 0;\n",
    "param weightRoom {ROOM} >= 0;\n",
    "\n",
    "set AFTER within {EXAM, EXAM};\n",
    "set COINCIDENCE within {EXAM, EXAM};\n",
    "set EXCLUSION within {EXAM, EXAM};\n",
    "\n",
    "set EXCLUSIVE within EXAM;\n",
    "\n",
    "# Weighting parameters\n",
    "param TWOINAROW;\n",
    "param TWOINADAY;\n",
    "param PERIODSPREAD := 1;\n",
    "param NONMIXEDDURATIONS;\n",
    "param FRONTLOAD;\n",
    "param gPERIODSPREAD;"
   ]
  },
  {
   "cell_type": "markdown",
   "id": "69899194",
   "metadata": {
    "id": "OyniwFNOZKR1",
    "papermill": {
     "duration": 0.007358,
     "end_time": "2025-04-02T14:01:53.977355",
     "exception": false,
     "start_time": "2025-04-02T14:01:53.969997",
     "status": "completed"
    },
    "tags": []
   },
   "source": [
    "### Imports"
   ]
  },
  {
   "cell_type": "code",
   "execution_count": 4,
   "id": "eb1e7704",
   "metadata": {
    "execution": {
     "iopub.execute_input": "2025-04-02T14:01:53.995634Z",
     "iopub.status.busy": "2025-04-02T14:01:53.995371Z",
     "iopub.status.idle": "2025-04-02T14:01:53.998996Z",
     "shell.execute_reply": "2025-04-02T14:01:53.998344Z"
    },
    "id": "JWxfC7BjZKR1",
    "papermill": {
     "duration": 0.01307,
     "end_time": "2025-04-02T14:01:53.999977",
     "exception": false,
     "start_time": "2025-04-02T14:01:53.986907",
     "status": "completed"
    },
    "tags": []
   },
   "outputs": [],
   "source": [
    "import sys\n",
    "import pandas as pd\n",
    "import numpy as np\n",
    "import re\n",
    "from collections import defaultdict"
   ]
  },
  {
   "cell_type": "markdown",
   "id": "f4869cee",
   "metadata": {
    "id": "UUOq_aHLZssV",
    "papermill": {
     "duration": 0.007487,
     "end_time": "2025-04-02T14:01:54.014116",
     "exception": false,
     "start_time": "2025-04-02T14:01:54.006629",
     "status": "completed"
    },
    "tags": []
   },
   "source": [
    "### File paths\n"
   ]
  },
  {
   "cell_type": "code",
   "execution_count": 5,
   "id": "f6c48a6a",
   "metadata": {
    "execution": {
     "iopub.execute_input": "2025-04-02T14:01:54.028404Z",
     "iopub.status.busy": "2025-04-02T14:01:54.028150Z",
     "iopub.status.idle": "2025-04-02T14:01:54.031570Z",
     "shell.execute_reply": "2025-04-02T14:01:54.031052Z"
    },
    "id": "zikNcitGZssV",
    "papermill": {
     "duration": 0.012195,
     "end_time": "2025-04-02T14:01:54.032749",
     "exception": false,
     "start_time": "2025-04-02T14:01:54.020554",
     "status": "completed"
    },
    "tags": [
     "parameters"
    ]
   },
   "outputs": [],
   "source": [
    "lines_file_path = 'exam_sets.txt'\n",
    "input_file_path = 'datasets/exam_comp_set1.exam'\n",
    "output_file_path = 'exam_sets.txt'\n",
    "solution_file_path = 'solutions/solution.txt'"
   ]
  },
  {
   "cell_type": "code",
   "execution_count": 6,
   "id": "4923c4c8",
   "metadata": {
    "execution": {
     "iopub.execute_input": "2025-04-02T14:01:54.048355Z",
     "iopub.status.busy": "2025-04-02T14:01:54.048101Z",
     "iopub.status.idle": "2025-04-02T14:01:54.051276Z",
     "shell.execute_reply": "2025-04-02T14:01:54.050749Z"
    },
    "papermill": {
     "duration": 0.012865,
     "end_time": "2025-04-02T14:01:54.052397",
     "exception": false,
     "start_time": "2025-04-02T14:01:54.039532",
     "status": "completed"
    },
    "tags": [
     "injected-parameters"
    ]
   },
   "outputs": [],
   "source": [
    "# Parameters\n",
    "input_file_path = \"datasets/exam_comp_set12.exam\"\n",
    "solution_file_path = \"solutions/solution12.txt\"\n"
   ]
  },
  {
   "cell_type": "markdown",
   "id": "a004a90c",
   "metadata": {
    "id": "u3ni2BraruZB",
    "papermill": {
     "duration": 0.008225,
     "end_time": "2025-04-02T14:01:54.067627",
     "exception": false,
     "start_time": "2025-04-02T14:01:54.059402",
     "status": "completed"
    },
    "tags": []
   },
   "source": [
    "### File creation with information on input file"
   ]
  },
  {
   "cell_type": "code",
   "execution_count": 7,
   "id": "e9f6f036",
   "metadata": {
    "colab": {
     "base_uri": "https://localhost:8080/"
    },
    "execution": {
     "iopub.execute_input": "2025-04-02T14:01:54.083830Z",
     "iopub.status.busy": "2025-04-02T14:01:54.083572Z",
     "iopub.status.idle": "2025-04-02T14:01:54.092487Z",
     "shell.execute_reply": "2025-04-02T14:01:54.091624Z"
    },
    "id": "T0Y5SEK0sNTP",
    "outputId": "018e5f3a-54e0-4544-cbc8-8d0ee843a5a6",
    "papermill": {
     "duration": 0.018633,
     "end_time": "2025-04-02T14:01:54.093897",
     "exception": false,
     "start_time": "2025-04-02T14:01:54.075264",
     "status": "completed"
    },
    "tags": []
   },
   "outputs": [
    {
     "name": "stdout",
     "output_type": "stream",
     "text": [
      "Set and size_of file created at: exam_sets.txt\n"
     ]
    }
   ],
   "source": [
    "size = {}\n",
    "\n",
    "# Extracting information from file\n",
    "with open(input_file_path, 'r') as file:\n",
    "    lines = file.readlines()  # Reading all lines at once for easier processing\n",
    "    line_count = len(lines)\n",
    "\n",
    "    i = 0\n",
    "    while i < line_count:\n",
    "        line = lines[i]\n",
    "\n",
    "        # Using regex to capture bracket pair in order to extract to file\n",
    "        matches = re.findall(r'\\[(.*?):(.*?)\\]', line)\n",
    "\n",
    "        # Checking for size\n",
    "        if matches:\n",
    "            for match in matches:\n",
    "                word, value = match[0].strip(), match[1].strip()\n",
    "                size[word] = value\n",
    "        else:\n",
    "            if line.startswith('[') and line.endswith(']\\n'):\n",
    "                parameter_name = line[1:-2].strip()\n",
    "                if parameter_name not in size:\n",
    "                    # Counting lines until next parameter\n",
    "                    count_lines = 0\n",
    "                    j = i + 1\n",
    "                    while j < line_count and not re.findall(r'\\[(.*?)]', lines[j]):\n",
    "                        count_lines += 1\n",
    "                        j += 1\n",
    "                    size[parameter_name] = count_lines\n",
    "                    i = j - 1\n",
    "\n",
    "        i += 1\n",
    "\n",
    "# Writing to file\n",
    "with open(output_file_path, 'w') as file:\n",
    "    for param in size:\n",
    "        file.write(f'{param} {size[param]}\\n')\n",
    "\n",
    "print(\"Set and size_of file created at:\", output_file_path)\n"
   ]
  },
  {
   "cell_type": "markdown",
   "id": "a17b202b",
   "metadata": {
    "id": "DVPF1DQixgSl",
    "papermill": {
     "duration": 0.007782,
     "end_time": "2025-04-02T14:01:54.108831",
     "exception": false,
     "start_time": "2025-04-02T14:01:54.101049",
     "status": "completed"
    },
    "tags": []
   },
   "source": [
    "### Functions to be used"
   ]
  },
  {
   "cell_type": "code",
   "execution_count": 8,
   "id": "b6f25a05",
   "metadata": {
    "execution": {
     "iopub.execute_input": "2025-04-02T14:01:54.123624Z",
     "iopub.status.busy": "2025-04-02T14:01:54.123368Z",
     "iopub.status.idle": "2025-04-02T14:01:54.130242Z",
     "shell.execute_reply": "2025-04-02T14:01:54.129700Z"
    },
    "id": "-L5H4Wzoxd36",
    "papermill": {
     "duration": 0.015568,
     "end_time": "2025-04-02T14:01:54.131375",
     "exception": false,
     "start_time": "2025-04-02T14:01:54.115807",
     "status": "completed"
    },
    "tags": []
   },
   "outputs": [],
   "source": [
    "# Function to find a specific line with the text\n",
    "def find_lines(filename, text):\n",
    "    try:\n",
    "        with open(filename, 'r') as file:\n",
    "            for line in file:\n",
    "                if text in line:\n",
    "                    parts = line.split()\n",
    "                    if len(parts) > 1:\n",
    "                        return int(parts[1]) # Returns the number where the text is in the file\n",
    "        return None # Return None if the text is not found\n",
    "    except FileNotFoundError:\n",
    "        print(f\"The file {filename} was not found.\")\n",
    "    except Exception as e:\n",
    "        print(f\"An error occurred: {e}\")\n",
    "\n",
    "# Function to find and check a specific line count for a given text\n",
    "def check_lines(filename, text):\n",
    "    line_count = find_lines(filename, text)\n",
    "    if line_count is not None:\n",
    "        print(f\"The lines of {text} are {line_count}\")\n",
    "        return line_count\n",
    "    else:\n",
    "        print(f\"{text} not found in the file.\")\n",
    "        sys.exit(1)\n",
    "\n",
    "# Function to find a specific line by the first word\n",
    "def find_line_by_first_word(filename, first_word):\n",
    "    try:\n",
    "        with open(filename, 'r') as file:\n",
    "            for line in file:\n",
    "                if line.startswith(first_word):\n",
    "                    return line.strip().split(',')  # Return the full line as a string\n",
    "        return None  # Return None if the line is not found\n",
    "    except FileNotFoundError:\n",
    "        print(f\"The file {filename} was not found.\")\n",
    "    except Exception as e:\n",
    "        print(f\"An error occurred: {e}\")\n",
    "        return None"
   ]
  },
  {
   "cell_type": "markdown",
   "id": "83844743",
   "metadata": {
    "id": "aSrpp7-LZKR2",
    "papermill": {
     "duration": 0.007171,
     "end_time": "2025-04-02T14:01:54.145275",
     "exception": false,
     "start_time": "2025-04-02T14:01:54.138104",
     "status": "completed"
    },
    "tags": []
   },
   "source": [
    "### Preprocessing"
   ]
  },
  {
   "cell_type": "code",
   "execution_count": 9,
   "id": "9d59b0e6",
   "metadata": {
    "colab": {
     "base_uri": "https://localhost:8080/"
    },
    "execution": {
     "iopub.execute_input": "2025-04-02T14:01:54.160339Z",
     "iopub.status.busy": "2025-04-02T14:01:54.160085Z",
     "iopub.status.idle": "2025-04-02T14:01:54.166161Z",
     "shell.execute_reply": "2025-04-02T14:01:54.165493Z"
    },
    "id": "vI5lN_htZKR2",
    "outputId": "18b17b95-8aa6-4659-c676-fe9dda3811d2",
    "papermill": {
     "duration": 0.015206,
     "end_time": "2025-04-02T14:01:54.167326",
     "exception": false,
     "start_time": "2025-04-02T14:01:54.152120",
     "status": "completed"
    },
    "tags": []
   },
   "outputs": [
    {
     "name": "stdout",
     "output_type": "stream",
     "text": [
      "The lines of Exams are 78\n",
      "The lines of Periods are 12\n",
      "The lines of Rooms are 50\n",
      "The lines of PeriodHardConstraints are 9\n",
      "The lines of RoomHardConstraints are 7\n",
      "The lines of InstitutionalWeightings are 5\n"
     ]
    }
   ],
   "source": [
    "# Reading file\n",
    "with open(input_file_path, 'r') as file:\n",
    "    lines = file.readlines()\n",
    "\n",
    "# Number of lines of each main cluster\n",
    "exam_lines = check_lines(lines_file_path, \"Exams\")\n",
    "period_lines = check_lines(lines_file_path, \"Periods\")\n",
    "room_lines = check_lines(lines_file_path, \"Rooms\")\n",
    "periodHard_lines = check_lines(lines_file_path, \"PeriodHardConstraints\")\n",
    "roomHard_lines = check_lines(lines_file_path, \"RoomHardConstraints\")\n",
    "weight_lines = check_lines(lines_file_path, \"InstitutionalWeightings\")\n",
    "\n",
    "# Getting Front-Load values\n",
    "line_data = find_line_by_first_word(input_file_path, \"FRONTLOAD\")\n",
    "examFL = int(line_data[1].strip())\n",
    "periodFL = int(line_data[2].strip())\n",
    "wFL = int(line_data[3].strip())"
   ]
  },
  {
   "cell_type": "markdown",
   "id": "baab46cd",
   "metadata": {
    "id": "_32aMyMYZKR2",
    "papermill": {
     "duration": 0.007596,
     "end_time": "2025-04-02T14:01:54.181818",
     "exception": false,
     "start_time": "2025-04-02T14:01:54.174222",
     "status": "completed"
    },
    "tags": []
   },
   "source": [
    "### Exam and Students Processing"
   ]
  },
  {
   "cell_type": "code",
   "execution_count": 10,
   "id": "dd50c2de",
   "metadata": {
    "execution": {
     "iopub.execute_input": "2025-04-02T14:01:54.199375Z",
     "iopub.status.busy": "2025-04-02T14:01:54.199120Z",
     "iopub.status.idle": "2025-04-02T14:01:54.217792Z",
     "shell.execute_reply": "2025-04-02T14:01:54.217055Z"
    },
    "id": "efo2Sl6XZKR2",
    "papermill": {
     "duration": 0.030324,
     "end_time": "2025-04-02T14:01:54.218911",
     "exception": false,
     "start_time": "2025-04-02T14:01:54.188587",
     "status": "completed"
    },
    "tags": []
   },
   "outputs": [],
   "source": [
    "exam_start_line = 1\n",
    "\n",
    "# Initializing lists to store exam and student data\n",
    "exam_data = []\n",
    "student_exam = []\n",
    "student_exams = {}\n",
    "all_students = set()\n",
    "i = 0\n",
    "\n",
    "for index in range(exam_start_line, exam_start_line + exam_lines):\n",
    "    if index < len(lines):\n",
    "        line_data = [int(x.strip()) for x in lines[index].split(',')]\n",
    "\n",
    "        # Extracting duration and student IDs while also creating size and checking for frontload\n",
    "        exam = i\n",
    "        duration = line_data[0]\n",
    "        student_ids = line_data[1:]\n",
    "        size = len(student_ids)\n",
    "        frontload = 1 if size >= examFL else 0\n",
    "\n",
    "        # Storing exam data\n",
    "        exam_data.append((exam, size, duration, frontload))\n",
    "        # Storing students for each Exam\n",
    "        student_exam.append(student_ids)\n",
    "        # Adding student IDs to the global set of all students\n",
    "        all_students.update(student_ids)\n",
    "        i += 1\n",
    "\n",
    "exam_df = pd.DataFrame(exam_data, columns=[\"EXAM\", \"sizeExam\", \"durationExam\", \"examFL\"],).set_index(\"EXAM\")\n",
    "\n",
    "# Creating exam labels and sorting all students\n",
    "exam_labels = [index for index in range(0, len(exam_data))]\n",
    "sorted_students = sorted(all_students)\n",
    "\n",
    "# Initializing empty lists for each student in student_exams\n",
    "student_exams = {student_id: [] for student_id in sorted_students}\n",
    "\n",
    "# Filling the dictionary for each student\n",
    "for student_exam, student_ids in enumerate(student_exam):\n",
    "    for student_id in student_ids:\n",
    "        student_exams[student_id].append(student_exam)\n",
    "\n",
    "# Grouping students by their exact set of exams using defaultdict\n",
    "exam_sets = defaultdict(list)\n",
    "for student, exams in student_exams.items():\n",
    "    exam_sets[frozenset(exams)].append(student)\n",
    "\n",
    "# Dictionary to store the size of students represented\n",
    "student_size = {}\n",
    "student_exams.clear()\n",
    "\n",
    "for exam_set, students in exam_sets.items():\n",
    "    # Picking the first student as the representative\n",
    "    representative = students[0]\n",
    "    # Only the representative in student_exams\n",
    "    student_exams[representative] = list(exam_set)\n",
    "    # Recording the count of students represented\n",
    "    student_size[representative] = len(students)\n",
    "\n",
    "# Extracting unique durations\n",
    "unique_durations = sorted({duration for _, _, duration, _ in exam_data})\n",
    "\n",
    "# Creating labels for columns in the duration matrix\n",
    "duration_labels = [d for d in unique_durations]\n",
    "\n",
    "# Initializing a matrix with zeros for duration data (rows for exams, columns for unique durations)\n",
    "duration_matrix = np.zeros((len(exam_data), len(unique_durations)), dtype=int)\n",
    "\n",
    "# Filling the duration matrix\n",
    "for exam_idx, (_, _, duration, _) in enumerate(exam_data):\n",
    "    duration_col = unique_durations.index(duration)   # Finding row index for the current exam's duration\n",
    "    duration_matrix[exam_idx, duration_col] = 1       # Marking duration as 1\n",
    "\n",
    "duration_df = pd.DataFrame(duration_matrix, columns=duration_labels, index=[i for i in range(len(exam_data))])"
   ]
  },
  {
   "cell_type": "markdown",
   "id": "24c4ace8",
   "metadata": {
    "id": "2Jy6bf4EZKR2",
    "papermill": {
     "duration": 0.006857,
     "end_time": "2025-04-02T14:01:54.232808",
     "exception": false,
     "start_time": "2025-04-02T14:01:54.225951",
     "status": "completed"
    },
    "tags": []
   },
   "source": [
    "### Period Processing"
   ]
  },
  {
   "cell_type": "code",
   "execution_count": 11,
   "id": "66d80088",
   "metadata": {
    "execution": {
     "iopub.execute_input": "2025-04-02T14:01:54.247634Z",
     "iopub.status.busy": "2025-04-02T14:01:54.247381Z",
     "iopub.status.idle": "2025-04-02T14:01:54.255610Z",
     "shell.execute_reply": "2025-04-02T14:01:54.254824Z"
    },
    "id": "e1p5QxfjZKR2",
    "papermill": {
     "duration": 0.017252,
     "end_time": "2025-04-02T14:01:54.256803",
     "exception": false,
     "start_time": "2025-04-02T14:01:54.239551",
     "status": "completed"
    },
    "tags": []
   },
   "outputs": [],
   "source": [
    "period_start_line = 2 + exam_lines\n",
    "\n",
    "# Initializing lists to store period data\n",
    "period_data = []\n",
    "period_dates = []\n",
    "unloaded = period_lines - periodFL\n",
    "i = 0\n",
    "\n",
    "for index in range(period_start_line, period_start_line + period_lines):\n",
    "    if index < len(lines):\n",
    "        line_data = lines[index].split(',')\n",
    "\n",
    "        # Extracting date of exam, duration, penalty and checking for frontload\n",
    "        period = i\n",
    "        date = line_data[0].strip()\n",
    "        time = int(line_data[2].strip())\n",
    "        penalty = int(line_data[3].strip())\n",
    "        frontload = 1 if i > unloaded else 0\n",
    "\n",
    "        # Storing date of exam\n",
    "        period_dates.append(date)\n",
    "        # Storing the period data\n",
    "        period_data.append((period, time, frontload, penalty))\n",
    "        i += 1\n",
    "\n",
    "period_df = pd.DataFrame(period_data, columns=[\"PERIOD\", \"durationPeriod\", \"periodFL\", \"weightPeriod\"],).set_index(\"PERIOD\")\n",
    "\n",
    "# Creating period labels\n",
    "period_labels = [index for index in range(0, len(period_dates))]\n",
    "\n",
    "# Initializing a matrix with zeros (rows and columns for periods)\n",
    "same_day_matrix = np.zeros((len(period_dates), len(period_dates)), dtype=int)\n",
    "\n",
    "# Filling same_day matrix\n",
    "for i in range(len(period_dates)):\n",
    "    for j in range(len(period_dates)):\n",
    "        if period_dates[i] == period_dates[j]:   # Checking to see if date of period i and j are same\n",
    "            same_day_matrix[i, j] = 1            # If yes marking as 1\n",
    "\n",
    "same_day_df = pd.DataFrame(same_day_matrix, columns=period_labels, index=period_labels)"
   ]
  },
  {
   "cell_type": "markdown",
   "id": "df4ec84f",
   "metadata": {
    "id": "d25xuMrNZKR2",
    "papermill": {
     "duration": 0.00687,
     "end_time": "2025-04-02T14:01:54.270878",
     "exception": false,
     "start_time": "2025-04-02T14:01:54.264008",
     "status": "completed"
    },
    "tags": []
   },
   "source": [
    "### Room Processing"
   ]
  },
  {
   "cell_type": "code",
   "execution_count": 12,
   "id": "451ec64a",
   "metadata": {
    "execution": {
     "iopub.execute_input": "2025-04-02T14:01:54.286517Z",
     "iopub.status.busy": "2025-04-02T14:01:54.285904Z",
     "iopub.status.idle": "2025-04-02T14:01:54.292074Z",
     "shell.execute_reply": "2025-04-02T14:01:54.291225Z"
    },
    "id": "N2fq8SFxZKR3",
    "papermill": {
     "duration": 0.015427,
     "end_time": "2025-04-02T14:01:54.293530",
     "exception": false,
     "start_time": "2025-04-02T14:01:54.278103",
     "status": "completed"
    },
    "tags": []
   },
   "outputs": [],
   "source": [
    "room_start_line = 3 + exam_lines + period_lines\n",
    "\n",
    "# Initializing lists to store room data\n",
    "room_data = []\n",
    "i = 0\n",
    "\n",
    "for index in range(room_start_line, room_start_line + room_lines):\n",
    "    if index < len(lines):\n",
    "        line_data = lines[index].split(',')\n",
    "\n",
    "        # Extracting size and penalty\n",
    "        room = i\n",
    "        size = int(line_data[0].strip())\n",
    "        penalty = int(line_data[1].strip())\n",
    "\n",
    "        room_data.append((room, size, penalty))\n",
    "        i += 1\n",
    "\n",
    "room_df = pd.DataFrame(room_data, columns=[\"ROOM\", \"sizeRoom\", \"weightRoom\"],).set_index(\"ROOM\")"
   ]
  },
  {
   "cell_type": "markdown",
   "id": "ca6bc4cf",
   "metadata": {
    "id": "MJHcLWMUZKR3",
    "papermill": {
     "duration": 0.006973,
     "end_time": "2025-04-02T14:01:54.307860",
     "exception": false,
     "start_time": "2025-04-02T14:01:54.300887",
     "status": "completed"
    },
    "tags": []
   },
   "source": [
    "### Period Hard Constraints Processing"
   ]
  },
  {
   "cell_type": "code",
   "execution_count": 13,
   "id": "2c4e9485",
   "metadata": {
    "execution": {
     "iopub.execute_input": "2025-04-02T14:01:54.322830Z",
     "iopub.status.busy": "2025-04-02T14:01:54.322560Z",
     "iopub.status.idle": "2025-04-02T14:01:54.328502Z",
     "shell.execute_reply": "2025-04-02T14:01:54.327679Z"
    },
    "id": "z4UNCuH6ZKR3",
    "papermill": {
     "duration": 0.01494,
     "end_time": "2025-04-02T14:01:54.329745",
     "exception": false,
     "start_time": "2025-04-02T14:01:54.314805",
     "status": "completed"
    },
    "tags": []
   },
   "outputs": [],
   "source": [
    "periodHard_start_line = 4 + exam_lines + period_lines + room_lines\n",
    "\n",
    "# Initializing lists to store periodHard data\n",
    "after_data = []\n",
    "coincidence_data = []\n",
    "exclusion_data = []\n",
    "\n",
    "for index in range(periodHard_start_line, periodHard_start_line + periodHard_lines):\n",
    "    if index < len(lines):\n",
    "        line_data = lines[index].split(',')\n",
    "\n",
    "        # Extracting exams and type of constraint\n",
    "        fExam = int(line_data[0].strip())\n",
    "        operation = line_data[1].strip()\n",
    "        sExam = int(line_data[2].strip())\n",
    "\n",
    "        if operation == \"AFTER\":\n",
    "            after_data.append((fExam, sExam))\n",
    "        elif operation == \"EXAM_COINCIDENCE\":\n",
    "            coincidence_data.append((fExam, sExam))\n",
    "        elif operation == \"EXCLUSION\":\n",
    "            exclusion_data.append((fExam, sExam))"
   ]
  },
  {
   "cell_type": "markdown",
   "id": "2aade9bd",
   "metadata": {
    "id": "fw0W4KWOZKR3",
    "papermill": {
     "duration": 0.006964,
     "end_time": "2025-04-02T14:01:54.343675",
     "exception": false,
     "start_time": "2025-04-02T14:01:54.336711",
     "status": "completed"
    },
    "tags": []
   },
   "source": [
    "### Room Hard Constraints Processing"
   ]
  },
  {
   "cell_type": "code",
   "execution_count": 14,
   "id": "7028367e",
   "metadata": {
    "execution": {
     "iopub.execute_input": "2025-04-02T14:01:54.358537Z",
     "iopub.status.busy": "2025-04-02T14:01:54.358270Z",
     "iopub.status.idle": "2025-04-02T14:01:54.362836Z",
     "shell.execute_reply": "2025-04-02T14:01:54.362018Z"
    },
    "id": "90ILsFRRZKR3",
    "papermill": {
     "duration": 0.013516,
     "end_time": "2025-04-02T14:01:54.364066",
     "exception": false,
     "start_time": "2025-04-02T14:01:54.350550",
     "status": "completed"
    },
    "tags": []
   },
   "outputs": [],
   "source": [
    "roomHard_start_line = 5 + exam_lines + period_lines + room_lines + periodHard_lines\n",
    "\n",
    "# Initializing list to store roomHard penalties\n",
    "roomHard_data = []\n",
    "\n",
    "for index in range(roomHard_start_line, roomHard_start_line + roomHard_lines):\n",
    "    if index < len(lines):\n",
    "        line_data = lines[index].split(',')\n",
    "        exam = int(line_data[0].strip())\n",
    "\n",
    "        roomHard_data.append(exam)"
   ]
  },
  {
   "cell_type": "markdown",
   "id": "14ba44f4",
   "metadata": {
    "id": "7wB9__cyZKR3",
    "papermill": {
     "duration": 0.007124,
     "end_time": "2025-04-02T14:01:54.378333",
     "exception": false,
     "start_time": "2025-04-02T14:01:54.371209",
     "status": "completed"
    },
    "tags": []
   },
   "source": [
    "### Institutional Weightings Processing"
   ]
  },
  {
   "cell_type": "code",
   "execution_count": 15,
   "id": "04637e74",
   "metadata": {
    "execution": {
     "iopub.execute_input": "2025-04-02T14:01:54.394181Z",
     "iopub.status.busy": "2025-04-02T14:01:54.393485Z",
     "iopub.status.idle": "2025-04-02T14:01:54.398793Z",
     "shell.execute_reply": "2025-04-02T14:01:54.398133Z"
    },
    "id": "haYOHz9_ZKR3",
    "papermill": {
     "duration": 0.014645,
     "end_time": "2025-04-02T14:01:54.399918",
     "exception": false,
     "start_time": "2025-04-02T14:01:54.385273",
     "status": "completed"
    },
    "tags": []
   },
   "outputs": [],
   "source": [
    "weight_start_line = 6 + exam_lines + period_lines + room_lines + periodHard_lines + roomHard_lines\n",
    "\n",
    "# Initializing list to weights data\n",
    "weight_data = []\n",
    "\n",
    "for index in range(weight_start_line, weight_start_line + weight_lines):\n",
    "    if index < len(lines):\n",
    "        line_data = lines[index].strip().split(',')\n",
    "\n",
    "        # Extracting parameter and weight\n",
    "        key = line_data[0].strip()\n",
    "        if key != \"FRONTLOAD\":\n",
    "            weight_data.append((key, int(line_data[1].strip())))\n",
    "        elif key == \"FRONTLOAD\":\n",
    "            weight_data.append((key, int(line_data[3].strip())))\n",
    "\n",
    "weight_dict = {key: value for key, value in weight_data}"
   ]
  },
  {
   "cell_type": "markdown",
   "id": "20d46a7a",
   "metadata": {
    "id": "tYA-jeGUxujz",
    "papermill": {
     "duration": 0.007644,
     "end_time": "2025-04-02T14:01:54.415399",
     "exception": false,
     "start_time": "2025-04-02T14:01:54.407755",
     "status": "completed"
    },
    "tags": []
   },
   "source": [
    "### Loading Exam, student and duration data"
   ]
  },
  {
   "cell_type": "code",
   "execution_count": 16,
   "id": "35e2d1d2",
   "metadata": {
    "execution": {
     "iopub.execute_input": "2025-04-02T14:01:54.432228Z",
     "iopub.status.busy": "2025-04-02T14:01:54.431949Z",
     "iopub.status.idle": "2025-04-02T14:01:54.501573Z",
     "shell.execute_reply": "2025-04-02T14:01:54.500822Z"
    },
    "id": "6CPg9YzCxuTT",
    "papermill": {
     "duration": 0.080416,
     "end_time": "2025-04-02T14:01:54.502756",
     "exception": false,
     "start_time": "2025-04-02T14:01:54.422340",
     "status": "completed"
    },
    "tags": []
   },
   "outputs": [],
   "source": [
    "# Sending data from \"exam_df\" to AMPL and initializing set \"EXAM\"\n",
    "ampl.set_data(exam_df, \"EXAM\")\n",
    "# Setting the keys of \"STUDENT\" set in AMPL using \"student_exams\"\n",
    "ampl.getSet(\"STUDENT\").setValues(student_exams.keys())\n",
    "# Setting the values of parameter \"sizeStudent\" using \"student_size\"\n",
    "ampl.getParameter(\"sizeStudent\").setValues(student_size)\n",
    "# Setting the values of parameter \"enrolled\" using \"enrollment_df\"\n",
    "ampl.set['STUDENT_EXAMS'].setValues(student_exams)\n",
    "# Sending data from \"unique_durations\" to AMPL and initializing set \"DURATION\"\n",
    "ampl.getSet(\"DURATION\").setValues(duration_labels)\n",
    "# Setting the values of parameter \"duration\" using \"duration_df\"\n",
    "ampl.getParameter(\"duration\").setValues(duration_df)"
   ]
  },
  {
   "cell_type": "markdown",
   "id": "43cbe5b4",
   "metadata": {
    "id": "xWw_bmxKZKR3",
    "papermill": {
     "duration": 0.00736,
     "end_time": "2025-04-02T14:01:54.517792",
     "exception": false,
     "start_time": "2025-04-02T14:01:54.510432",
     "status": "completed"
    },
    "tags": []
   },
   "source": [
    "### Loading Period data"
   ]
  },
  {
   "cell_type": "code",
   "execution_count": 17,
   "id": "5e807e46",
   "metadata": {
    "execution": {
     "iopub.execute_input": "2025-04-02T14:01:54.535833Z",
     "iopub.status.busy": "2025-04-02T14:01:54.535573Z",
     "iopub.status.idle": "2025-04-02T14:01:54.542212Z",
     "shell.execute_reply": "2025-04-02T14:01:54.541403Z"
    },
    "id": "m6uznmuYZKR3",
    "papermill": {
     "duration": 0.016158,
     "end_time": "2025-04-02T14:01:54.543532",
     "exception": false,
     "start_time": "2025-04-02T14:01:54.527374",
     "status": "completed"
    },
    "tags": []
   },
   "outputs": [],
   "source": [
    "# Sending data from \"period_df\" to AMPL and initializing set \"PERIOD\"\n",
    "ampl.set_data(period_df, \"PERIOD\")\n",
    "# Setting the values of parameter \"same_day\" using \"same_day_df\"\n",
    "ampl.getParameter(\"same_day\").setValues(same_day_df)"
   ]
  },
  {
   "cell_type": "markdown",
   "id": "1a0bd6bb",
   "metadata": {
    "id": "LK1N7K92ZKR3",
    "papermill": {
     "duration": 0.007577,
     "end_time": "2025-04-02T14:01:54.558317",
     "exception": false,
     "start_time": "2025-04-02T14:01:54.550740",
     "status": "completed"
    },
    "tags": []
   },
   "source": [
    "### Loading Room data"
   ]
  },
  {
   "cell_type": "code",
   "execution_count": 18,
   "id": "d37a0fd8",
   "metadata": {
    "execution": {
     "iopub.execute_input": "2025-04-02T14:01:54.573673Z",
     "iopub.status.busy": "2025-04-02T14:01:54.573409Z",
     "iopub.status.idle": "2025-04-02T14:01:54.577485Z",
     "shell.execute_reply": "2025-04-02T14:01:54.576665Z"
    },
    "id": "ruGCv79kZKR4",
    "papermill": {
     "duration": 0.013315,
     "end_time": "2025-04-02T14:01:54.578742",
     "exception": false,
     "start_time": "2025-04-02T14:01:54.565427",
     "status": "completed"
    },
    "tags": []
   },
   "outputs": [],
   "source": [
    "# Sending data from \"room_df\" to AMPL and initializing set \"ROOM\"\n",
    "ampl.set_data(room_df, \"ROOM\")"
   ]
  },
  {
   "cell_type": "markdown",
   "id": "98bd87f4",
   "metadata": {
    "id": "jydUrB6CZKR4",
    "papermill": {
     "duration": 0.007409,
     "end_time": "2025-04-02T14:01:54.593392",
     "exception": false,
     "start_time": "2025-04-02T14:01:54.585983",
     "status": "completed"
    },
    "tags": []
   },
   "source": [
    "### Loading Period Hard Constraints data"
   ]
  },
  {
   "cell_type": "code",
   "execution_count": 19,
   "id": "863efa15",
   "metadata": {
    "execution": {
     "iopub.execute_input": "2025-04-02T14:01:54.608777Z",
     "iopub.status.busy": "2025-04-02T14:01:54.608528Z",
     "iopub.status.idle": "2025-04-02T14:01:54.613102Z",
     "shell.execute_reply": "2025-04-02T14:01:54.612288Z"
    },
    "id": "_Fc9kChLZKR4",
    "papermill": {
     "duration": 0.013754,
     "end_time": "2025-04-02T14:01:54.614275",
     "exception": false,
     "start_time": "2025-04-02T14:01:54.600521",
     "status": "completed"
    },
    "tags": []
   },
   "outputs": [],
   "source": [
    "# Sending data from \"after_data\" to AMPL and intializing set \"AFTER\"\n",
    "ampl.getSet(\"AFTER\").setValues(after_data)\n",
    "# Sending data from \"coincidence_data\" to AMPL and intializing set \"COINCIDENCE\"\n",
    "ampl.getSet(\"COINCIDENCE\").setValues(coincidence_data)\n",
    "# Sending data from \"exclusion_data\" to AMPL and intializing set \"EXCLUSION\"\n",
    "ampl.getSet(\"EXCLUSION\").setValues(exclusion_data)"
   ]
  },
  {
   "cell_type": "markdown",
   "id": "fe76ca0e",
   "metadata": {
    "id": "JzgkCjs0ZKR4",
    "papermill": {
     "duration": 0.007496,
     "end_time": "2025-04-02T14:01:54.628986",
     "exception": false,
     "start_time": "2025-04-02T14:01:54.621490",
     "status": "completed"
    },
    "tags": []
   },
   "source": [
    "### Loading Room Hard Constraint data"
   ]
  },
  {
   "cell_type": "code",
   "execution_count": 20,
   "id": "68853416",
   "metadata": {
    "execution": {
     "iopub.execute_input": "2025-04-02T14:01:54.645096Z",
     "iopub.status.busy": "2025-04-02T14:01:54.644795Z",
     "iopub.status.idle": "2025-04-02T14:01:54.648463Z",
     "shell.execute_reply": "2025-04-02T14:01:54.647628Z"
    },
    "id": "rwBfuDuIZKR4",
    "papermill": {
     "duration": 0.013375,
     "end_time": "2025-04-02T14:01:54.649721",
     "exception": false,
     "start_time": "2025-04-02T14:01:54.636346",
     "status": "completed"
    },
    "tags": []
   },
   "outputs": [],
   "source": [
    "# Sending data from \"roomHard_data\" to AMPL and intializing set \"EXCLUSIVE\"\n",
    "ampl.getSet(\"EXCLUSIVE\").setValues(roomHard_data)"
   ]
  },
  {
   "cell_type": "markdown",
   "id": "26b82123",
   "metadata": {
    "id": "dtsAuo_FZKR4",
    "papermill": {
     "duration": 0.008708,
     "end_time": "2025-04-02T14:01:54.665808",
     "exception": false,
     "start_time": "2025-04-02T14:01:54.657100",
     "status": "completed"
    },
    "tags": []
   },
   "source": [
    "### Loading Institutional Weightings data"
   ]
  },
  {
   "cell_type": "code",
   "execution_count": 21,
   "id": "5a8c8d35",
   "metadata": {
    "execution": {
     "iopub.execute_input": "2025-04-02T14:01:54.683824Z",
     "iopub.status.busy": "2025-04-02T14:01:54.683574Z",
     "iopub.status.idle": "2025-04-02T14:01:54.689105Z",
     "shell.execute_reply": "2025-04-02T14:01:54.688405Z"
    },
    "id": "LtoPcy21ZKR4",
    "papermill": {
     "duration": 0.017244,
     "end_time": "2025-04-02T14:01:54.690305",
     "exception": false,
     "start_time": "2025-04-02T14:01:54.673061",
     "status": "completed"
    },
    "tags": []
   },
   "outputs": [],
   "source": [
    "ampl.param[\"TWOINAROW\"] = weight_dict.get(\"TWOINAROW\", 1)\n",
    "ampl.param[\"TWOINADAY\"] = weight_dict.get(\"TWOINADAY\", 1)\n",
    "ampl.param[\"NONMIXEDDURATIONS\"] = weight_dict.get(\"NONMIXEDDURATIONS\", 1)\n",
    "ampl.param[\"FRONTLOAD\"] = weight_dict.get(\"FRONTLOAD\", 1)\n",
    "ampl.param[\"gPERIODSPREAD\"] = weight_dict.get(\"PERIODSPREAD\", 1)"
   ]
  },
  {
   "cell_type": "markdown",
   "id": "1c5993b8",
   "metadata": {
    "id": "2WFfwClbZKR4",
    "papermill": {
     "duration": 0.007298,
     "end_time": "2025-04-02T14:01:54.706024",
     "exception": false,
     "start_time": "2025-04-02T14:01:54.698726",
     "status": "completed"
    },
    "tags": []
   },
   "source": [
    "### Variables"
   ]
  },
  {
   "cell_type": "code",
   "execution_count": 22,
   "id": "9b95504b",
   "metadata": {
    "execution": {
     "iopub.execute_input": "2025-04-02T14:01:54.722382Z",
     "iopub.status.busy": "2025-04-02T14:01:54.722118Z",
     "iopub.status.idle": "2025-04-02T14:01:54.725989Z",
     "shell.execute_reply": "2025-04-02T14:01:54.725450Z"
    },
    "id": "Te7d2nhsZKR4",
    "papermill": {
     "duration": 0.013626,
     "end_time": "2025-04-02T14:01:54.727174",
     "exception": false,
     "start_time": "2025-04-02T14:01:54.713548",
     "status": "completed"
    },
    "tags": []
   },
   "outputs": [],
   "source": [
    "%%ampl_eval\n",
    "# Primary Variables\n",
    "var X_P {EXAM, PERIOD} binary; \n",
    "var X_R {EXAM, ROOM} binary; \n",
    "var MI_R {EXAM, ROOM} >= 0, <= 1; \n",
    "\n",
    "# Secondary Variables for Penalties\n",
    "var C_2R {STUDENT} >= 0; \n",
    "var C_2D {STUDENT} >= 0; \n",
    "var C_PS {STUDENT} >= 0; \n",
    "var C_NMD >= 0;         \n",
    "var C_FL >= 0;          \n",
    "var C_P >= 0;           \n",
    "var C_R >= 0;           \n"
   ]
  },
  {
   "cell_type": "markdown",
   "id": "9d6e40cc",
   "metadata": {
    "id": "qZ3MsLRgZKR4",
    "papermill": {
     "duration": 0.008034,
     "end_time": "2025-04-02T14:01:54.742553",
     "exception": false,
     "start_time": "2025-04-02T14:01:54.734519",
     "status": "completed"
    },
    "tags": []
   },
   "source": [
    "### Objective"
   ]
  },
  {
   "cell_type": "code",
   "execution_count": 23,
   "id": "cc65e388",
   "metadata": {
    "execution": {
     "iopub.execute_input": "2025-04-02T14:01:54.759165Z",
     "iopub.status.busy": "2025-04-02T14:01:54.758708Z",
     "iopub.status.idle": "2025-04-02T14:01:54.762425Z",
     "shell.execute_reply": "2025-04-02T14:01:54.761866Z"
    },
    "id": "qJIC5YuEZKR4",
    "papermill": {
     "duration": 0.013644,
     "end_time": "2025-04-02T14:01:54.763657",
     "exception": false,
     "start_time": "2025-04-02T14:01:54.750013",
     "status": "completed"
    },
    "tags": []
   },
   "outputs": [],
   "source": [
    "%%ampl_eval\n",
    "# Objective Function\n",
    "\n",
    "minimize Total_Penalty:\n",
    "    sum {s in STUDENT} (TWOINAROW * C_2R[s] + TWOINADAY * C_2D[s] + PERIODSPREAD * C_PS[s]) * sizeStudent[s]\n",
    "    + NONMIXEDDURATIONS * C_NMD\n",
    "    + FRONTLOAD * C_FL\n",
    "    + C_P + C_R;"
   ]
  },
  {
   "cell_type": "markdown",
   "id": "bd9b0d31",
   "metadata": {
    "id": "_TV_o9l7ZKR8",
    "papermill": {
     "duration": 0.007634,
     "end_time": "2025-04-02T14:01:54.778637",
     "exception": false,
     "start_time": "2025-04-02T14:01:54.771003",
     "status": "completed"
    },
    "tags": []
   },
   "source": [
    "### Hard Constraints"
   ]
  },
  {
   "cell_type": "code",
   "execution_count": 24,
   "id": "ccbc4703",
   "metadata": {
    "execution": {
     "iopub.execute_input": "2025-04-02T14:01:54.794583Z",
     "iopub.status.busy": "2025-04-02T14:01:54.794338Z",
     "iopub.status.idle": "2025-04-02T14:01:54.798553Z",
     "shell.execute_reply": "2025-04-02T14:01:54.797996Z"
    },
    "id": "gcjlf8KSZKR8",
    "papermill": {
     "duration": 0.013861,
     "end_time": "2025-04-02T14:01:54.799714",
     "exception": false,
     "start_time": "2025-04-02T14:01:54.785853",
     "status": "completed"
    },
    "tags": []
   },
   "outputs": [],
   "source": [
    "%%ampl_eval\n",
    "# (10)\n",
    "s.t. AssignToOneRoom {i in EXAM}:\n",
    "    sum {r in ROOM} X_R[i, r] >= 1;\n",
    "# (11)\n",
    "s.t. AssignToOnePeriod {i in EXAM}:\n",
    "    sum {p in PERIOD} X_P[i, p] >= 1;\n",
    "# (12)\n",
    "s.t. RoomCapacity {p in PERIOD, r in ROOM}:\n",
    "    sum {i in EXAM} sizeExam[i] * X_P[i, p] * MI_R[i, r] <= sizeRoom[r];\n",
    "# (13)\n",
    "s.t. PeriodDuration {p in PERIOD, i in EXAM}:\n",
    "    durationExam[i] * X_P[i, p] <= durationPeriod[p];\n",
    "# (14)\n",
    "s.t. NoStudentConflict {p in PERIOD, s in STUDENT}:\n",
    "    sum {i in STUDENT_EXAMS[s]} X_P[i, p] <= 1;\n",
    "# (15)\n",
    "s.t. Precedence {(i, j) in AFTER, p in PERIOD, q in PERIOD: q >= p}:\n",
    "    X_P[i, p] + X_P[j, q] <= 1;\n",
    "# (16)\n",
    "s.t. Coincidence {(i, j) in COINCIDENCE, p in PERIOD}:\n",
    "    X_P[i, p] = X_P[j, p];\n",
    "# (17)\n",
    "s.t. Exclusion {(i, j) in EXCLUSION, p in PERIOD}:\n",
    "    X_P[i, p] + X_P[j, p] <= 1;\n",
    "# (18)\n",
    "s.t. HardRoomConstraints {i in EXCLUSIVE, j in EXAM, p in PERIOD, r in ROOM: j != i}:\n",
    "    (X_P[i, p] + X_R[i, r] + X_P[j, p] + X_R[j, r]) <= 3;\n",
    "# (29)\n",
    "s.t. MI_RUsage {i in EXAM, r in ROOM}:\n",
    "    MI_R[i, r] <= X_R[i, r];\n",
    "# (30)\n",
    "s.t. MI_count {i in EXAM}:\n",
    "    sum {r in ROOM} MI_R[i, r] == 1;\n"
   ]
  },
  {
   "cell_type": "markdown",
   "id": "f66a673b",
   "metadata": {
    "id": "vvUpyhk5ZKR8",
    "papermill": {
     "duration": 0.007659,
     "end_time": "2025-04-02T14:01:54.814781",
     "exception": false,
     "start_time": "2025-04-02T14:01:54.807122",
     "status": "completed"
    },
    "tags": []
   },
   "source": [
    "### Soft Constraints"
   ]
  },
  {
   "cell_type": "code",
   "execution_count": 25,
   "id": "4b81cd2d",
   "metadata": {
    "execution": {
     "iopub.execute_input": "2025-04-02T14:01:54.830909Z",
     "iopub.status.busy": "2025-04-02T14:01:54.830658Z",
     "iopub.status.idle": "2025-04-02T14:01:54.835313Z",
     "shell.execute_reply": "2025-04-02T14:01:54.834697Z"
    },
    "id": "crSf_Bq0ZKR8",
    "papermill": {
     "duration": 0.014376,
     "end_time": "2025-04-02T14:01:54.836548",
     "exception": false,
     "start_time": "2025-04-02T14:01:54.822172",
     "status": "completed"
    },
    "tags": []
   },
   "outputs": [],
   "source": [
    "%%ampl_eval\n",
    "# (19)\n",
    "s.t. TwoInARowPenalty {s in STUDENT}:\n",
    "    C_2R[s] = sum {i in STUDENT_EXAMS[s], j in STUDENT_EXAMS[s], p in PERIOD, q in PERIOD: j != i && q = p + 1 && same_day[p, q] = 1}\n",
    "                  X_P[i, p] * X_P[j, q];\n",
    "# (20)\n",
    "s.t. TwoInADayPenalty {s in STUDENT}:\n",
    "    C_2D[s] = sum {i in STUDENT_EXAMS[s], j in STUDENT_EXAMS[s], p in PERIOD, q in PERIOD: j != i && q > p + 1 && same_day[p, q] = 1}\n",
    "                  X_P[i, p] * X_P[j, q];\n",
    "# (21)\n",
    "s.t. PeriodSpreadPenalty {s in STUDENT}:\n",
    "    C_PS[s] = sum {i in STUDENT_EXAMS[s], j in STUDENT_EXAMS[s], p in PERIOD, q in PERIOD: j != i && p < q && q <= p+gPERIODSPREAD}\n",
    "                  X_P[i, p] * X_P[j, q];\n",
    "\n",
    "# Auxiliary variables for C_NMD calculations\n",
    "var U_D {DURATION, PERIOD, ROOM} binary;  # 1 if a duration type d is assigned to (p, r)\n",
    "var C_NMD_pr {PERIOD, ROOM} >= 0;         # Non-negative penalty for period-room pair\n",
    "\n",
    "# (22)\n",
    "s.t. Define_U_D {d in DURATION, i in EXAM, p in PERIOD, r in ROOM: duration[i, d] = 1}:\n",
    "    U_D[d, p, r] >= X_P[i, p] + X_R[i, r] - 1;\n",
    "# (23)\n",
    "s.t. NonMixedDurationsPenalty {p in PERIOD, r in ROOM}:\n",
    "    1 + C_NMD_pr[p, r] >= sum {d in DURATION} U_D[d, p, r];\n",
    "# (24)\n",
    "# No additional code is required for this since its already handled by the variable declaration\n",
    "# (25)\n",
    "s.t. Total_NonMixedDurations_Penalty:\n",
    "    C_NMD = sum {p in PERIOD, r in ROOM} C_NMD_pr[p, r];\n",
    "# (26)\n",
    "s.t. FrontLoadPenalty:\n",
    "    C_FL = sum {i in EXAM, p in PERIOD} examFL[i] * periodFL[p] * X_P[i, p];\n",
    "# (27)\n",
    "s.t. SoftPeriodPenalty:\n",
    "    C_P = sum {p in PERIOD, i in EXAM} weightPeriod[p] * X_P[i, p];\n",
    "# (28)\n",
    "s.t. SoftRoomPenalty:\n",
    "    C_R = sum {r in ROOM, i in EXAM} weightRoom[r] * X_R[i, r];\n"
   ]
  },
  {
   "cell_type": "markdown",
   "id": "f9d7a9f3",
   "metadata": {
    "id": "6NnyUc2qxzIM",
    "papermill": {
     "duration": 0.007355,
     "end_time": "2025-04-02T14:01:54.851600",
     "exception": false,
     "start_time": "2025-04-02T14:01:54.844245",
     "status": "completed"
    },
    "tags": []
   },
   "source": [
    "# Solve with HiGHS"
   ]
  },
  {
   "cell_type": "code",
   "execution_count": 26,
   "id": "012cf946",
   "metadata": {
    "execution": {
     "iopub.execute_input": "2025-04-02T14:01:54.868122Z",
     "iopub.status.busy": "2025-04-02T14:01:54.867839Z"
    },
    "id": "11ojqR5JyVqB",
    "papermill": {
     "duration": 173.472941,
     "end_time": "2025-04-02T14:04:48.332342",
     "exception": false,
     "start_time": "2025-04-02T14:01:54.859401",
     "status": "completed"
    },
    "tags": []
   },
   "outputs": [
    {
     "name": "stdout",
     "output_type": "stream",
     "text": [
      "Gurobi 12.0.1: "
     ]
    },
    {
     "name": "stdout",
     "output_type": "stream",
     "text": [
      "  lim:time = 7200\n"
     ]
    },
    {
     "name": "stdout",
     "output_type": "stream",
     "text": [
      "Set parameter LogToConsole to value 1\n",
      "  tech:outlev = 1\n"
     ]
    },
    {
     "name": "stdout",
     "output_type": "stream",
     "text": [
      "\n",
      "AMPL MP initial flat model has 11590 variables (0 integer, 5973 binary);\n",
      "Objectives: 1 linear; \n",
      "Constraints:  353924 linear; 1714 quadratic;\n",
      "\n",
      "AMPL MP final model has 11590 variables (0 integer, 5973 binary);\n",
      "Objectives: 1 linear; \n",
      "Constraints:  353924 linear; 1714 quadratic;\n",
      "\n",
      "\n",
      "Set parameter InfUnbdInfo to value 1\n",
      "Gurobi Optimizer version 12.0.1 build v12.0.1rc0 (linux64 - \"Ubuntu 24.04.2 LTS\")\n",
      "\n",
      "CPU model: Intel(R) Core(TM) i7-9750H CPU @ 2.60GHz, instruction set [SSE2|AVX|AVX2]\n",
      "Thread count: 6 physical cores, 12 logical processors, using up to 12 threads\n",
      "\n"
     ]
    },
    {
     "name": "stdout",
     "output_type": "stream",
     "text": [
      "Non-default parameters:\n",
      "TimeLimit  7200\n"
     ]
    },
    {
     "name": "stdout",
     "output_type": "stream",
     "text": [
      "InfUnbdInfo  1\n"
     ]
    },
    {
     "name": "stdout",
     "output_type": "stream",
     "text": [
      "\n",
      "Optimize a model with 353924 rows, 11590 columns and 1366773 nonzeros\n"
     ]
    },
    {
     "name": "stdout",
     "output_type": "stream",
     "text": [
      "Model fingerprint: 0xb0df1706\n",
      "Model has 1714 quadratic constraints\n",
      "Variable types: 5617 continuous, 5973 integer (0 binary)\n"
     ]
    },
    {
     "name": "stdout",
     "output_type": "stream",
     "text": [
      "Coefficient statistics:\n",
      "  Matrix range     [1e+00, 1e+02]\n",
      "  QMatrix range    [1e+00, 2e+02]\n",
      "  QLMatrix range   [1e+00, 1e+00]\n",
      "  Objective range  [1e+00, 8e+02]\n",
      "  Bounds range     [1e+00, 1e+00]\n",
      "  RHS range        [1e+00, 3e+00]\n",
      "  QRHS range       [1e+01, 2e+02]\n"
     ]
    },
    {
     "name": "stdout",
     "output_type": "stream",
     "text": [
      "Presolve removed 73582 rows and 1289 columns (presolve time = 5s)...\n"
     ]
    },
    {
     "name": "stdout",
     "output_type": "stream",
     "text": [
      "Presolve removed 73725 rows and 1289 columns\n",
      "Presolve time: 7.28s\n"
     ]
    },
    {
     "name": "stdout",
     "output_type": "stream",
     "text": [
      "Presolved: 369659 rows, 99161 columns, 1656347 nonzeros\n"
     ]
    },
    {
     "name": "stdout",
     "output_type": "stream",
     "text": [
      "Variable types: 47550 continuous, 51611 integer (51611 binary)\n"
     ]
    },
    {
     "name": "stdout",
     "output_type": "stream",
     "text": [
      "\n",
      "Deterministic concurrent LP optimizer: primal simplex, dual simplex, and barrier\n",
      "Showing barrier log only...\n"
     ]
    },
    {
     "name": "stdout",
     "output_type": "stream",
     "text": [
      "\n"
     ]
    },
    {
     "name": "stdout",
     "output_type": "stream",
     "text": [
      "Root barrier log...\n",
      "\n"
     ]
    },
    {
     "name": "stdout",
     "output_type": "stream",
     "text": [
      "Ordering time: 4.37s\n",
      "\n",
      "Barrier performed 0 iterations in 22.54 seconds (20.44 work units)\n"
     ]
    },
    {
     "name": "stdout",
     "output_type": "stream",
     "text": [
      "Barrier solve interrupted - model solved by another algorithm\n",
      "\n"
     ]
    },
    {
     "name": "stdout",
     "output_type": "stream",
     "text": [
      "Concurrent spin time: 0.01s\n",
      "\n",
      "Solved with dual simplex\n"
     ]
    },
    {
     "name": "stdout",
     "output_type": "stream",
     "text": [
      "\n",
      "Root relaxation: objective 6.000000e+01, 4192 iterations, 6.98 seconds (4.12 work units)\n"
     ]
    },
    {
     "name": "stdout",
     "output_type": "stream",
     "text": [
      "Total elapsed time = 22.66s (DegenMoves)\n"
     ]
    },
    {
     "name": "stdout",
     "output_type": "stream",
     "text": [
      "Total elapsed time = 37.58s (DegenMoves)\n"
     ]
    },
    {
     "name": "stdout",
     "output_type": "stream",
     "text": [
      "\n",
      "    Nodes    |    Current Node    |     Objective Bounds      |     Work\n",
      " Expl Unexpl |  Obj  Depth IntInf | Incumbent    BestBd   Gap | It/Node Time\n",
      "\n",
      "     0     0   60.00000    0  401          -   60.00000      -     -   54s\n"
     ]
    },
    {
     "name": "stdout",
     "output_type": "stream",
     "text": [
      "H    0     0                    1574995.0000   60.00000   100%     -   58s\n"
     ]
    },
    {
     "name": "stdout",
     "output_type": "stream",
     "text": [
      "     0     0   60.21296    0  445 1574995.00   60.21296   100%     -   97s\n"
     ]
    },
    {
     "name": "stdout",
     "output_type": "stream",
     "text": [
      "H    0     0                    15343.000000   60.48148   100%     -   98s\n"
     ]
    },
    {
     "name": "stdout",
     "output_type": "stream",
     "text": [
      "H    0     0                    10978.000000   60.48148  99.4%     -  101s\n"
     ]
    },
    {
     "name": "stdout",
     "output_type": "stream",
     "text": [
      "H    0     0                    10888.000000   60.48148  99.4%     -  101s\n"
     ]
    },
    {
     "name": "stdout",
     "output_type": "stream",
     "text": [
      "     0     0   90.65821    0  587 10888.0000   90.65821  99.2%     -  122s\n"
     ]
    },
    {
     "name": "stdout",
     "output_type": "stream",
     "text": [
      "     0     0   99.60884    0  609 10888.0000   99.60884  99.1%     -  132s\n"
     ]
    },
    {
     "name": "stdout",
     "output_type": "stream",
     "text": [
      "     0     0  102.67784    0  589 10888.0000  102.67784  99.1%     -  135s\n"
     ]
    },
    {
     "name": "stdout",
     "output_type": "stream",
     "text": [
      "     0     0  103.10915    0  596 10888.0000  103.10915  99.1%     -  137s\n"
     ]
    },
    {
     "name": "stdout",
     "output_type": "stream",
     "text": [
      "     0     0  103.26138    0  588 10888.0000  103.26138  99.1%     -  138s\n"
     ]
    },
    {
     "name": "stdout",
     "output_type": "stream",
     "text": [
      "     0     0  103.28814    0  594 10888.0000  103.28814  99.1%     -  139s\n"
     ]
    },
    {
     "name": "stdout",
     "output_type": "stream",
     "text": [
      "     0     0  103.28966    0  604 10888.0000  103.28966  99.1%     -  139s\n"
     ]
    },
    {
     "name": "stdout",
     "output_type": "stream",
     "text": [
      "     0     0  103.29195    0  601 10888.0000  103.29195  99.1%     -  140s\n"
     ]
    },
    {
     "name": "stdout",
     "output_type": "stream",
     "text": [
      "     0     0  103.30007    0  600 10888.0000  103.30007  99.1%     -  140s\n"
     ]
    },
    {
     "name": "stdout",
     "output_type": "stream",
     "text": [
      "     0     0  103.31620    0  599 10888.0000  103.31620  99.1%     -  140s\n"
     ]
    },
    {
     "name": "stdout",
     "output_type": "stream",
     "text": [
      "     0     0  103.32859    0  597 10888.0000  103.32859  99.1%     -  141s\n"
     ]
    }
   ],
   "source": [
    "# Specifying the solver to use\n",
    "ampl.option[\"solver\"] = \"gurobi\"\n",
    "# Setting time limit of 2 hours\n",
    "ampl.option['gurobi_options'] = 'timelimit=7200  outlev=1'\n",
    "# Solving\n",
    "ampl.solve()\n",
    "# Stopping if the model was not solved\n",
    "assert ampl.get_value(\"solve_result\") == \"solved\"\n",
    "# Getting objective entity by AMPL name\n",
    "totalpenalty = ampl.get_objective(\"Total_Penalty\")\n",
    "print(\"Objective is:\", totalpenalty.value())"
   ]
  },
  {
   "cell_type": "code",
   "execution_count": null,
   "id": "eb42274a",
   "metadata": {
    "id": "f_Ubl_pAZssb",
    "papermill": {
     "duration": null,
     "end_time": null,
     "exception": null,
     "start_time": null,
     "status": "completed"
    },
    "tags": []
   },
   "outputs": [],
   "source": [
    "# Retrieving X_P, X_R and MI_R variables and converting to a Pandas DataFrame\n",
    "X_P = ampl.get_variable(\"X_P\").to_pandas()\n",
    "X_R = ampl.get_variable(\"X_R\").to_pandas()\n",
    "MI_R = ampl.get_variable(\"MI_R\").to_pandas()\n",
    "\n",
    "# Renaming the indexes on the Pandas DataFrame\n",
    "X_P.index.names = [\"EXAM\", \"PERIOD\"]\n",
    "X_R.index.names = [\"EXAM\", \"ROOM\"]\n",
    "MI_R.index.names = [\"EXAM\", \"ROOM\"]\n",
    "\n",
    "# Getting penalty values from AMPL\n",
    "C_2R = ampl.get_variable(\"C_2R\").to_pandas()  # TwoInARowPenalty\n",
    "C_2D = ampl.get_variable(\"C_2D\").to_pandas()  # TwoInADayPenalty\n",
    "C_PS = ampl.get_variable(\"C_PS\").to_pandas()  # PeriodSpreadPenalty\n",
    "C_NMD = ampl.get_variable(\"C_NMD\").to_pandas()  # Total_NonMixedDurations_Penalty\n",
    "C_FL = ampl.get_variable(\"C_FL\").to_pandas()  # FrontLoadPenalty\n",
    "C_P = ampl.get_variable(\"C_P\").to_pandas()  # SoftPeriodPenalty\n",
    "C_R = ampl.get_variable(\"C_R\").to_pandas()  # SoftRoomPenalty\n",
    "\n",
    "# Computing totals\n",
    "total_C_2R = C_2R[\"C_2R.val\"].sum()\n",
    "total_C_2D = C_2D[\"C_2D.val\"].sum()\n",
    "total_C_PS = C_PS[\"C_PS.val\"].sum()\n",
    "total_C_NMD = C_NMD[\"C_NMD.val\"].sum() \n",
    "total_C_FL = C_FL[\"C_FL.val\"].sum() \n",
    "total_C_P = C_P[\"C_P.val\"].sum()\n",
    "total_C_R = C_R[\"C_R.val\"].sum()\n",
    "\n",
    "with open(solution_file_path, \"w\") as file:\n",
    "    file.write(X_P.to_string() + \"\\n\\n\")\n",
    "    file.write(X_R.to_string() + \"\\n\\n\")\n",
    "    file.write(MI_R.to_string() + \"\\n\\n\")\n",
    "    file.write(f\"Two In A Row Penalty: {total_C_2R}\\n\")\n",
    "    file.write(f\"Two In A Day Penalty: {total_C_2D}\\n\")\n",
    "    file.write(f\"Period Spread Penalty: {total_C_PS}\\n\")\n",
    "    file.write(f\"Non-Mixed Durations Penalty: {total_C_NMD}\\n\")\n",
    "    file.write(f\"Front Load Penalty: {total_C_FL}\\n\")\n",
    "    file.write(f\"Soft Period Penalty: {total_C_P}\\n\")\n",
    "    file.write(f\"Soft Room Penalty: {total_C_R}\\n\")"
   ]
  }
 ],
 "metadata": {
  "colab": {
   "provenance": []
  },
  "kernelspec": {
   "display_name": "Python 3",
   "language": "python",
   "name": "python3"
  },
  "language_info": {
   "codemirror_mode": {
    "name": "ipython",
    "version": 3
   },
   "file_extension": ".py",
   "mimetype": "text/x-python",
   "name": "python",
   "nbconvert_exporter": "python",
   "pygments_lexer": "ipython3",
   "version": "3.12.3"
  },
  "papermill": {
   "default_parameters": {},
   "duration": 184.364068,
   "end_time": "2025-04-02T14:04:50.959470",
   "environment_variables": {},
   "exception": null,
   "input_path": "ITC07.ipynb",
   "output_path": "notebooks/comp_set12.ipynb",
   "parameters": {
    "input_file_path": "datasets/exam_comp_set12.exam",
    "solution_file_path": "solutions/solution12.txt"
   },
   "start_time": "2025-04-02T14:01:46.595402",
   "version": "2.6.0"
  }
 },
 "nbformat": 4,
 "nbformat_minor": 5
}