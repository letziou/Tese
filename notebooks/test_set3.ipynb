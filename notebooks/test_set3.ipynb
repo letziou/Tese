{
 "cells": [
  {
   "cell_type": "markdown",
   "id": "5bdaf4a0",
   "metadata": {
    "id": "gprACN0E2fRM",
    "papermill": {
     "duration": 0.020161,
     "end_time": "2025-04-02T14:13:18.025056",
     "exception": false,
     "start_time": "2025-04-02T14:13:18.004895",
     "status": "completed"
    },
    "tags": []
   },
   "source": [
    "# ITC 2007\n"
   ]
  },
  {
   "cell_type": "code",
   "execution_count": 1,
   "id": "0775ba93",
   "metadata": {
    "execution": {
     "iopub.execute_input": "2025-04-02T14:13:18.052166Z",
     "iopub.status.busy": "2025-04-02T14:13:18.051429Z",
     "iopub.status.idle": "2025-04-02T14:13:18.729865Z",
     "shell.execute_reply": "2025-04-02T14:13:18.728248Z"
    },
    "id": "N_yOBcbj3Ozx",
    "papermill": {
     "duration": 0.690703,
     "end_time": "2025-04-02T14:13:18.732159",
     "exception": false,
     "start_time": "2025-04-02T14:13:18.041456",
     "status": "completed"
    },
    "tags": []
   },
   "outputs": [
    {
     "name": "stdout",
     "output_type": "stream",
     "text": [
      "Note: you may need to restart the kernel to use updated packages.\n"
     ]
    }
   ],
   "source": [
    "# Installing dependencies\n",
    "%pip install -q amplpy pandas numpy"
   ]
  },
  {
   "cell_type": "code",
   "execution_count": 2,
   "id": "1852a8e9",
   "metadata": {
    "colab": {
     "base_uri": "https://localhost:8080/"
    },
    "execution": {
     "iopub.execute_input": "2025-04-02T14:13:18.745406Z",
     "iopub.status.busy": "2025-04-02T14:13:18.744980Z",
     "iopub.status.idle": "2025-04-02T14:13:24.396023Z",
     "shell.execute_reply": "2025-04-02T14:13:24.393939Z"
    },
    "id": "YZotGiKU3RZY",
    "outputId": "39525dbf-e3bd-48a7-ff29-03d7313a8c38",
    "papermill": {
     "duration": 5.659556,
     "end_time": "2025-04-02T14:13:24.399394",
     "exception": false,
     "start_time": "2025-04-02T14:13:18.739838",
     "status": "completed"
    },
    "tags": []
   },
   "outputs": [
    {
     "name": "stdout",
     "output_type": "stream",
     "text": [
      "Licensed to Bundle #6876.7352 expiring 20250415: Decision Support Methods (\"M?todos de Apoio ? Decis?o\"), Jo?o Pedro Pedroso, University of Porto.\n"
     ]
    }
   ],
   "source": [
    "# Google Colab & Kaggle integration\n",
    "from amplpy import AMPL, ampl_notebook\n",
    "\n",
    "ampl = ampl_notebook(\n",
    "    modules=[\"gurobi\"],  # modules to install\n",
    "    license_uuid=\"acf35a17-6898-4d26-ab01-a6cc68a46872\",  # license to use\n",
    ")"
   ]
  },
  {
   "cell_type": "markdown",
   "id": "b0e273bd",
   "metadata": {
    "id": "BZ5JZD0FzXAg",
    "papermill": {
     "duration": 0.013791,
     "end_time": "2025-04-02T14:13:24.434686",
     "exception": false,
     "start_time": "2025-04-02T14:13:24.420895",
     "status": "completed"
    },
    "tags": []
   },
   "source": [
    "## ITC2007 Model\n",
    "\n",
    "Based on the Second International Timetabling Competition: Examination timetabling track:\n",
    "\n",
    "1. Sets and Parameters\n",
    "\n",
    "    Set `EXAM`: set of exams \n",
    "\n",
    "    Parameters:\n",
    "    - `sizeExam {EXAM}`: size of exam e\n",
    "    - `durationExam {EXAM}`: duration of exam e\n",
    "    - `exammFL {EXAM}`: boolean that is 1 iff exam e is subject to Front-Load penalties, 0 otherwise\n",
    "\n",
    "    SET `STUDENT`: set of students\n",
    "\n",
    "    Parameters:\n",
    "    - `sizeStudent {STUDENT}`: size of students within a set of students that have the same exams\n",
    "\n",
    "    SET `STUDENT_EXAMS`: set that contains for each exam the students enrolled in it\n",
    "\n",
    "    SET `DURATION`: set of durations used in exams\n",
    "\n",
    "    Parameters:\n",
    "    - `duration {EXAM, DURATION}`: boolean that is 1 iff exam e has \"duration type\" d\n",
    "\n",
    "    SET `PERIOD`: set of periods\n",
    "\n",
    "    Parameters:\n",
    "    - `durationPeriod {PERIOD}`: duraion of period p\n",
    "    - `periodFL {PERIOD}`: boolean that is 1 iff period p is subject to the FrontLoad penalties\n",
    "    - `weightPeriod {PERIOD}`: weight that specifies the penalty for using period p\n",
    "    - `same_day {PERIOD, PERIOD}`: boolean that is 1 iff periods p and q are in the same day\n",
    "\n",
    "    SET `ROOM`: set of rooms\n",
    "\n",
    "    Parameters:\n",
    "    - `sizeRoom {ROOM}`: size of room r\n",
    "    - `weightRoom {ROOM}`: weight that specifies the penalty for using room r\n",
    "\n",
    "2. Period Related Hard Constraints\n",
    "\n",
    "    SET `AFTER`: a set of pairs of exams\n",
    "    For every pair (e1, e2) ∈ AFTER exam e1 must occur strictly after exam e2\n",
    "\n",
    "    SET `COINCIDENCE`: a set of pairs of exams\n",
    "    For every pair (e1, e2) ∈ COINCIDENCE exam e1 and e2 must occur in the same period\n",
    "\n",
    "    SET `EXCLUSION`: a set of pairs of exams\n",
    "    For every pair (e1, e2) ∈ EXCLUSION exam e1 and e2 must not occur in the same period\n",
    "\n",
    "\n",
    "3. Room Related Hard Constraints\n",
    "\n",
    "    SET `EXCLUSIVE`: a set of exams\n",
    "    For every exam e ∈ EXCLUSIVE, if exam e is assigned to period p and room r then e must be the sole occupier, i.e. no other exam can be assigned to both p and r\n",
    "\n",
    "4. Institutional Weights and Parameters\n",
    "\n",
    "    Parameters:\n",
    "    - `TWOINAROW`: weight for \"two in a row\"\n",
    "    - `TWOINADAY`: weight for \"two in a day\"\n",
    "    - `PERIODSPREAD`: weight for period spread (defaults to 1 as not currently specified in the input format)\n",
    "    - `NONMIXEDDURATIONS`: weight for \"No mixed duration\"\n",
    "    - `FRONTLOAD`: weight for the Front load penalty\n",
    "    - `gPERIODSPREAD`: the period spread, the preferred minimal \"gap\" between exams for a student\n",
    "    \n",
    "5. Variables:\n",
    "\n",
    "    5.1 Primary Decision Variables\n",
    "\n",
    "    - `X_P {EXAM, PERIOD}`: boolean that is 1 if exam i is in period p otherwise 0\n",
    "    - `X_R {EXAM, PERIOD}`: boolean that is 1 if exam i is in room r otherwise 0\n",
    "    - `Y_P {EXAM, PERIOD}`: fraction of students for each room\n",
    "\n",
    "    5.2 Secondary Variables\n",
    "\n",
    "    - `C_2R {STUDENT} >= 0`: two-in-a-row penalty for each student s\n",
    "    - `C_2D {STUDENT} >= 0`: two-in-a-day penalty for each student s\n",
    "    - `C_PS {STUDENT} >= 0`: period spread penalty for each student s\n",
    "    - `C_NMD >= 0`: no mixed duration penalty\n",
    "    - `C_FL >= 0`: front-load penalty\n",
    "    - `C_P >= 0`: soft period penalty\n",
    "    - `C_R >= 0`: soft room penalty\n",
    "\n",
    "6. Objective:\n",
    "    \n",
    "    - `Total_Penalty`: minimise total cost of penalties \n",
    "\n",
    "7. Constraints:\n",
    "\n",
    "    7.1 Hard Constraints:\n",
    "\n",
    "    - `(10) and (11)`: every exam is allocated to at least one room, and to at least one period\n",
    "    - `(12)`: room capacities are always respected \n",
    "    - `(13)`: period durations are respected\n",
    "    - `(14)`: in any period, any student is taking at most one exam\n",
    "    - `(15), (16) and (17)`: hard period constraints\n",
    "    - `(18)`: hard room constraints\n",
    "    - `(29)`:\n",
    "    - `(30)`:\n",
    "\n",
    "    7.2 Soft Constraints:\n",
    "    - `(19)`: two in a row\n",
    "    - `(20)`: two in a day\n",
    "    - `(21)`: period spread\n",
    "    - `(22), (23), (24) and (25)`: non-mixed durations \n",
    "    - `(26)`: front load\n",
    "    - `(27)`: soft period penalties\n",
    "    - `(28)`: soft room penalties\n",
    "\n",
    "This track is then modeled as follows:"
   ]
  },
  {
   "cell_type": "code",
   "execution_count": 3,
   "id": "580695d9",
   "metadata": {
    "execution": {
     "iopub.execute_input": "2025-04-02T14:13:24.449855Z",
     "iopub.status.busy": "2025-04-02T14:13:24.449503Z",
     "iopub.status.idle": "2025-04-02T14:13:24.453660Z",
     "shell.execute_reply": "2025-04-02T14:13:24.453048Z"
    },
    "id": "1s-ndj-hZKR1",
    "papermill": {
     "duration": 0.012184,
     "end_time": "2025-04-02T14:13:24.454559",
     "exception": false,
     "start_time": "2025-04-02T14:13:24.442375",
     "status": "completed"
    },
    "tags": []
   },
   "outputs": [],
   "source": [
    "%%ampl_eval\n",
    "reset;\n",
    "set EXAM;\n",
    "\n",
    "param sizeExam {EXAM} >= 0;\n",
    "param durationExam {EXAM} > 0;\n",
    "param examFL {EXAM} binary;\n",
    "\n",
    "set STUDENT;\n",
    "\n",
    "param sizeStudent {STUDENT} > 0;\n",
    "\n",
    "set STUDENT_EXAMS {STUDENT} within EXAM;\n",
    "\n",
    "set DURATION;\n",
    "\n",
    "param duration {EXAM, DURATION} binary;\n",
    "\n",
    "set PERIOD;\n",
    "\n",
    "param durationPeriod {PERIOD} > 0;\n",
    "param periodFL {PERIOD} binary;\n",
    "param weightPeriod {PERIOD} >= 0;\n",
    "\n",
    "param same_day {PERIOD, PERIOD} binary;\n",
    "\n",
    "set ROOM;\n",
    "\n",
    "param sizeRoom {ROOM} > 0;\n",
    "param weightRoom {ROOM} >= 0;\n",
    "\n",
    "set AFTER within {EXAM, EXAM};\n",
    "set COINCIDENCE within {EXAM, EXAM};\n",
    "set EXCLUSION within {EXAM, EXAM};\n",
    "\n",
    "set EXCLUSIVE within EXAM;\n",
    "\n",
    "# Weighting parameters\n",
    "param TWOINAROW;\n",
    "param TWOINADAY;\n",
    "param PERIODSPREAD := 1;\n",
    "param NONMIXEDDURATIONS;\n",
    "param FRONTLOAD;\n",
    "param gPERIODSPREAD;"
   ]
  },
  {
   "cell_type": "markdown",
   "id": "8eb51dd4",
   "metadata": {
    "id": "OyniwFNOZKR1",
    "papermill": {
     "duration": 0.00411,
     "end_time": "2025-04-02T14:13:24.463380",
     "exception": false,
     "start_time": "2025-04-02T14:13:24.459270",
     "status": "completed"
    },
    "tags": []
   },
   "source": [
    "### Imports"
   ]
  },
  {
   "cell_type": "code",
   "execution_count": 4,
   "id": "c3f67ce7",
   "metadata": {
    "execution": {
     "iopub.execute_input": "2025-04-02T14:13:24.472625Z",
     "iopub.status.busy": "2025-04-02T14:13:24.472180Z",
     "iopub.status.idle": "2025-04-02T14:13:24.475042Z",
     "shell.execute_reply": "2025-04-02T14:13:24.474619Z"
    },
    "id": "JWxfC7BjZKR1",
    "papermill": {
     "duration": 0.008473,
     "end_time": "2025-04-02T14:13:24.475863",
     "exception": false,
     "start_time": "2025-04-02T14:13:24.467390",
     "status": "completed"
    },
    "tags": []
   },
   "outputs": [],
   "source": [
    "import sys\n",
    "import pandas as pd\n",
    "import numpy as np\n",
    "import re\n",
    "from collections import defaultdict"
   ]
  },
  {
   "cell_type": "markdown",
   "id": "26b14386",
   "metadata": {
    "id": "UUOq_aHLZssV",
    "papermill": {
     "duration": 0.004067,
     "end_time": "2025-04-02T14:13:24.484204",
     "exception": false,
     "start_time": "2025-04-02T14:13:24.480137",
     "status": "completed"
    },
    "tags": []
   },
   "source": [
    "### File paths\n"
   ]
  },
  {
   "cell_type": "code",
   "execution_count": 5,
   "id": "dc120ca9",
   "metadata": {
    "execution": {
     "iopub.execute_input": "2025-04-02T14:13:24.492883Z",
     "iopub.status.busy": "2025-04-02T14:13:24.492734Z",
     "iopub.status.idle": "2025-04-02T14:13:24.495130Z",
     "shell.execute_reply": "2025-04-02T14:13:24.494723Z"
    },
    "id": "zikNcitGZssV",
    "papermill": {
     "duration": 0.007677,
     "end_time": "2025-04-02T14:13:24.495889",
     "exception": false,
     "start_time": "2025-04-02T14:13:24.488212",
     "status": "completed"
    },
    "tags": [
     "parameters"
    ]
   },
   "outputs": [],
   "source": [
    "lines_file_path = 'exam_sets.txt'\n",
    "input_file_path = 'datasets/exam_comp_set1.exam'\n",
    "output_file_path = 'exam_sets.txt'\n",
    "solution_file_path = 'solutions/solution.txt'"
   ]
  },
  {
   "cell_type": "code",
   "execution_count": 6,
   "id": "4d6c14d4",
   "metadata": {
    "execution": {
     "iopub.execute_input": "2025-04-02T14:13:24.504880Z",
     "iopub.status.busy": "2025-04-02T14:13:24.504730Z",
     "iopub.status.idle": "2025-04-02T14:13:24.507166Z",
     "shell.execute_reply": "2025-04-02T14:13:24.506701Z"
    },
    "papermill": {
     "duration": 0.007863,
     "end_time": "2025-04-02T14:13:24.508047",
     "exception": false,
     "start_time": "2025-04-02T14:13:24.500184",
     "status": "completed"
    },
    "tags": [
     "injected-parameters"
    ]
   },
   "outputs": [],
   "source": [
    "# Parameters\n",
    "input_file_path = \"datasets/exam_test_set3.exam\"\n",
    "solution_file_path = \"solutions/solutiontest_set3.txt\"\n"
   ]
  },
  {
   "cell_type": "markdown",
   "id": "0353644f",
   "metadata": {
    "id": "u3ni2BraruZB",
    "papermill": {
     "duration": 0.004088,
     "end_time": "2025-04-02T14:13:24.516654",
     "exception": false,
     "start_time": "2025-04-02T14:13:24.512566",
     "status": "completed"
    },
    "tags": []
   },
   "source": [
    "### File creation with information on input file"
   ]
  },
  {
   "cell_type": "code",
   "execution_count": 7,
   "id": "8f73dd65",
   "metadata": {
    "colab": {
     "base_uri": "https://localhost:8080/"
    },
    "execution": {
     "iopub.execute_input": "2025-04-02T14:13:24.525783Z",
     "iopub.status.busy": "2025-04-02T14:13:24.525501Z",
     "iopub.status.idle": "2025-04-02T14:13:24.532019Z",
     "shell.execute_reply": "2025-04-02T14:13:24.531600Z"
    },
    "id": "T0Y5SEK0sNTP",
    "outputId": "018e5f3a-54e0-4544-cbc8-8d0ee843a5a6",
    "papermill": {
     "duration": 0.011963,
     "end_time": "2025-04-02T14:13:24.532825",
     "exception": false,
     "start_time": "2025-04-02T14:13:24.520862",
     "status": "completed"
    },
    "tags": []
   },
   "outputs": [
    {
     "name": "stdout",
     "output_type": "stream",
     "text": [
      "Set and size_of file created at: exam_sets.txt\n"
     ]
    }
   ],
   "source": [
    "size = {}\n",
    "\n",
    "# Extracting information from file\n",
    "with open(input_file_path, 'r') as file:\n",
    "    lines = file.readlines()  # Reading all lines at once for easier processing\n",
    "    line_count = len(lines)\n",
    "\n",
    "    i = 0\n",
    "    while i < line_count:\n",
    "        line = lines[i]\n",
    "\n",
    "        # Using regex to capture bracket pair in order to extract to file\n",
    "        matches = re.findall(r'\\[(.*?):(.*?)\\]', line)\n",
    "\n",
    "        # Checking for size\n",
    "        if matches:\n",
    "            for match in matches:\n",
    "                word, value = match[0].strip(), match[1].strip()\n",
    "                size[word] = value\n",
    "        else:\n",
    "            if line.startswith('[') and line.endswith(']\\n'):\n",
    "                parameter_name = line[1:-2].strip()\n",
    "                if parameter_name not in size:\n",
    "                    # Counting lines until next parameter\n",
    "                    count_lines = 0\n",
    "                    j = i + 1\n",
    "                    while j < line_count and not re.findall(r'\\[(.*?)]', lines[j]):\n",
    "                        count_lines += 1\n",
    "                        j += 1\n",
    "                    size[parameter_name] = count_lines\n",
    "                    i = j - 1\n",
    "\n",
    "        i += 1\n",
    "\n",
    "# Writing to file\n",
    "with open(output_file_path, 'w') as file:\n",
    "    for param in size:\n",
    "        file.write(f'{param} {size[param]}\\n')\n",
    "\n",
    "print(\"Set and size_of file created at:\", output_file_path)\n"
   ]
  },
  {
   "cell_type": "markdown",
   "id": "2ecdc1e7",
   "metadata": {
    "id": "DVPF1DQixgSl",
    "papermill": {
     "duration": 0.004556,
     "end_time": "2025-04-02T14:13:24.541917",
     "exception": false,
     "start_time": "2025-04-02T14:13:24.537361",
     "status": "completed"
    },
    "tags": []
   },
   "source": [
    "### Functions to be used"
   ]
  },
  {
   "cell_type": "code",
   "execution_count": 8,
   "id": "2d750a2c",
   "metadata": {
    "execution": {
     "iopub.execute_input": "2025-04-02T14:13:24.551145Z",
     "iopub.status.busy": "2025-04-02T14:13:24.550927Z",
     "iopub.status.idle": "2025-04-02T14:13:24.555902Z",
     "shell.execute_reply": "2025-04-02T14:13:24.555414Z"
    },
    "id": "-L5H4Wzoxd36",
    "papermill": {
     "duration": 0.010679,
     "end_time": "2025-04-02T14:13:24.556832",
     "exception": false,
     "start_time": "2025-04-02T14:13:24.546153",
     "status": "completed"
    },
    "tags": []
   },
   "outputs": [],
   "source": [
    "# Function to find a specific line with the text\n",
    "def find_lines(filename, text):\n",
    "    try:\n",
    "        with open(filename, 'r') as file:\n",
    "            for line in file:\n",
    "                if text in line:\n",
    "                    parts = line.split()\n",
    "                    if len(parts) > 1:\n",
    "                        return int(parts[1]) # Returns the number where the text is in the file\n",
    "        return None # Return None if the text is not found\n",
    "    except FileNotFoundError:\n",
    "        print(f\"The file {filename} was not found.\")\n",
    "    except Exception as e:\n",
    "        print(f\"An error occurred: {e}\")\n",
    "\n",
    "# Function to find and check a specific line count for a given text\n",
    "def check_lines(filename, text):\n",
    "    line_count = find_lines(filename, text)\n",
    "    if line_count is not None:\n",
    "        print(f\"The lines of {text} are {line_count}\")\n",
    "        return line_count\n",
    "    else:\n",
    "        print(f\"{text} not found in the file.\")\n",
    "        sys.exit(1)\n",
    "\n",
    "# Function to find a specific line by the first word\n",
    "def find_line_by_first_word(filename, first_word):\n",
    "    try:\n",
    "        with open(filename, 'r') as file:\n",
    "            for line in file:\n",
    "                if line.startswith(first_word):\n",
    "                    return line.strip().split(',')  # Return the full line as a string\n",
    "        return None  # Return None if the line is not found\n",
    "    except FileNotFoundError:\n",
    "        print(f\"The file {filename} was not found.\")\n",
    "    except Exception as e:\n",
    "        print(f\"An error occurred: {e}\")\n",
    "        return None"
   ]
  },
  {
   "cell_type": "markdown",
   "id": "b3c0c7c1",
   "metadata": {
    "id": "aSrpp7-LZKR2",
    "papermill": {
     "duration": 0.004177,
     "end_time": "2025-04-02T14:13:24.565337",
     "exception": false,
     "start_time": "2025-04-02T14:13:24.561160",
     "status": "completed"
    },
    "tags": []
   },
   "source": [
    "### Preprocessing"
   ]
  },
  {
   "cell_type": "code",
   "execution_count": 9,
   "id": "1823caea",
   "metadata": {
    "colab": {
     "base_uri": "https://localhost:8080/"
    },
    "execution": {
     "iopub.execute_input": "2025-04-02T14:13:24.574475Z",
     "iopub.status.busy": "2025-04-02T14:13:24.574323Z",
     "iopub.status.idle": "2025-04-02T14:13:24.578598Z",
     "shell.execute_reply": "2025-04-02T14:13:24.578127Z"
    },
    "id": "vI5lN_htZKR2",
    "outputId": "18b17b95-8aa6-4659-c676-fe9dda3811d2",
    "papermill": {
     "duration": 0.009855,
     "end_time": "2025-04-02T14:13:24.579313",
     "exception": false,
     "start_time": "2025-04-02T14:13:24.569458",
     "status": "completed"
    },
    "tags": []
   },
   "outputs": [
    {
     "name": "stdout",
     "output_type": "stream",
     "text": [
      "The lines of Exams are 9\n",
      "The lines of Periods are 12\n",
      "The lines of Rooms are 4\n",
      "The lines of PeriodHardConstraints are 0\n",
      "The lines of RoomHardConstraints are 0\n",
      "The lines of InstitutionalWeightings are 5\n"
     ]
    }
   ],
   "source": [
    "# Reading file\n",
    "with open(input_file_path, 'r') as file:\n",
    "    lines = file.readlines()\n",
    "\n",
    "# Number of lines of each main cluster\n",
    "exam_lines = check_lines(lines_file_path, \"Exams\")\n",
    "period_lines = check_lines(lines_file_path, \"Periods\")\n",
    "room_lines = check_lines(lines_file_path, \"Rooms\")\n",
    "periodHard_lines = check_lines(lines_file_path, \"PeriodHardConstraints\")\n",
    "roomHard_lines = check_lines(lines_file_path, \"RoomHardConstraints\")\n",
    "weight_lines = check_lines(lines_file_path, \"InstitutionalWeightings\")\n",
    "\n",
    "# Getting Front-Load values\n",
    "line_data = find_line_by_first_word(input_file_path, \"FRONTLOAD\")\n",
    "examFL = int(line_data[1].strip())\n",
    "periodFL = int(line_data[2].strip())\n",
    "wFL = int(line_data[3].strip())"
   ]
  },
  {
   "cell_type": "markdown",
   "id": "73542de3",
   "metadata": {
    "id": "_32aMyMYZKR2",
    "papermill": {
     "duration": 0.004224,
     "end_time": "2025-04-02T14:13:24.587782",
     "exception": false,
     "start_time": "2025-04-02T14:13:24.583558",
     "status": "completed"
    },
    "tags": []
   },
   "source": [
    "### Exam and Students Processing"
   ]
  },
  {
   "cell_type": "code",
   "execution_count": 10,
   "id": "8a5e3452",
   "metadata": {
    "execution": {
     "iopub.execute_input": "2025-04-02T14:13:24.596899Z",
     "iopub.status.busy": "2025-04-02T14:13:24.596753Z",
     "iopub.status.idle": "2025-04-02T14:13:24.608991Z",
     "shell.execute_reply": "2025-04-02T14:13:24.608483Z"
    },
    "id": "efo2Sl6XZKR2",
    "papermill": {
     "duration": 0.017729,
     "end_time": "2025-04-02T14:13:24.609681",
     "exception": false,
     "start_time": "2025-04-02T14:13:24.591952",
     "status": "completed"
    },
    "tags": []
   },
   "outputs": [],
   "source": [
    "exam_start_line = 1\n",
    "\n",
    "# Initializing lists to store exam and student data\n",
    "exam_data = []\n",
    "student_exam = []\n",
    "student_exams = {}\n",
    "all_students = set()\n",
    "i = 0\n",
    "\n",
    "for index in range(exam_start_line, exam_start_line + exam_lines):\n",
    "    if index < len(lines):\n",
    "        line_data = [int(x.strip()) for x in lines[index].split(',')]\n",
    "\n",
    "        # Extracting duration and student IDs while also creating size and checking for frontload\n",
    "        exam = i\n",
    "        duration = line_data[0]\n",
    "        student_ids = line_data[1:]\n",
    "        size = len(student_ids)\n",
    "        frontload = 1 if size >= examFL else 0\n",
    "\n",
    "        # Storing exam data\n",
    "        exam_data.append((exam, size, duration, frontload))\n",
    "        # Storing students for each Exam\n",
    "        student_exam.append(student_ids)\n",
    "        # Adding student IDs to the global set of all students\n",
    "        all_students.update(student_ids)\n",
    "        i += 1\n",
    "\n",
    "exam_df = pd.DataFrame(exam_data, columns=[\"EXAM\", \"sizeExam\", \"durationExam\", \"examFL\"],).set_index(\"EXAM\")\n",
    "\n",
    "# Creating exam labels and sorting all students\n",
    "exam_labels = [index for index in range(0, len(exam_data))]\n",
    "sorted_students = sorted(all_students)\n",
    "\n",
    "# Initializing empty lists for each student in student_exams\n",
    "student_exams = {student_id: [] for student_id in sorted_students}\n",
    "\n",
    "# Filling the dictionary for each student\n",
    "for student_exam, student_ids in enumerate(student_exam):\n",
    "    for student_id in student_ids:\n",
    "        student_exams[student_id].append(student_exam)\n",
    "\n",
    "# Grouping students by their exact set of exams using defaultdict\n",
    "exam_sets = defaultdict(list)\n",
    "for student, exams in student_exams.items():\n",
    "    exam_sets[frozenset(exams)].append(student)\n",
    "\n",
    "# Dictionary to store the size of students represented\n",
    "student_size = {}\n",
    "student_exams.clear()\n",
    "\n",
    "for exam_set, students in exam_sets.items():\n",
    "    # Picking the first student as the representative\n",
    "    representative = students[0]\n",
    "    # Only the representative in student_exams\n",
    "    student_exams[representative] = list(exam_set)\n",
    "    # Recording the count of students represented\n",
    "    student_size[representative] = len(students)\n",
    "\n",
    "# Extracting unique durations\n",
    "unique_durations = sorted({duration for _, _, duration, _ in exam_data})\n",
    "\n",
    "# Creating labels for columns in the duration matrix\n",
    "duration_labels = [d for d in unique_durations]\n",
    "\n",
    "# Initializing a matrix with zeros for duration data (rows for exams, columns for unique durations)\n",
    "duration_matrix = np.zeros((len(exam_data), len(unique_durations)), dtype=int)\n",
    "\n",
    "# Filling the duration matrix\n",
    "for exam_idx, (_, _, duration, _) in enumerate(exam_data):\n",
    "    duration_col = unique_durations.index(duration)   # Finding row index for the current exam's duration\n",
    "    duration_matrix[exam_idx, duration_col] = 1       # Marking duration as 1\n",
    "\n",
    "duration_df = pd.DataFrame(duration_matrix, columns=duration_labels, index=[i for i in range(len(exam_data))])"
   ]
  },
  {
   "cell_type": "markdown",
   "id": "94697b2f",
   "metadata": {
    "id": "2Jy6bf4EZKR2",
    "papermill": {
     "duration": 0.004219,
     "end_time": "2025-04-02T14:13:24.618126",
     "exception": false,
     "start_time": "2025-04-02T14:13:24.613907",
     "status": "completed"
    },
    "tags": []
   },
   "source": [
    "### Period Processing"
   ]
  },
  {
   "cell_type": "code",
   "execution_count": 11,
   "id": "066ae947",
   "metadata": {
    "execution": {
     "iopub.execute_input": "2025-04-02T14:13:24.627383Z",
     "iopub.status.busy": "2025-04-02T14:13:24.627236Z",
     "iopub.status.idle": "2025-04-02T14:13:24.633964Z",
     "shell.execute_reply": "2025-04-02T14:13:24.633494Z"
    },
    "id": "e1p5QxfjZKR2",
    "papermill": {
     "duration": 0.012399,
     "end_time": "2025-04-02T14:13:24.634817",
     "exception": false,
     "start_time": "2025-04-02T14:13:24.622418",
     "status": "completed"
    },
    "tags": []
   },
   "outputs": [],
   "source": [
    "period_start_line = 2 + exam_lines\n",
    "\n",
    "# Initializing lists to store period data\n",
    "period_data = []\n",
    "period_dates = []\n",
    "unloaded = period_lines - periodFL\n",
    "i = 0\n",
    "\n",
    "for index in range(period_start_line, period_start_line + period_lines):\n",
    "    if index < len(lines):\n",
    "        line_data = lines[index].split(',')\n",
    "\n",
    "        # Extracting date of exam, duration, penalty and checking for frontload\n",
    "        period = i\n",
    "        date = line_data[0].strip()\n",
    "        time = int(line_data[2].strip())\n",
    "        penalty = int(line_data[3].strip())\n",
    "        frontload = 1 if i > unloaded else 0\n",
    "\n",
    "        # Storing date of exam\n",
    "        period_dates.append(date)\n",
    "        # Storing the period data\n",
    "        period_data.append((period, time, frontload, penalty))\n",
    "        i += 1\n",
    "\n",
    "period_df = pd.DataFrame(period_data, columns=[\"PERIOD\", \"durationPeriod\", \"periodFL\", \"weightPeriod\"],).set_index(\"PERIOD\")\n",
    "\n",
    "# Creating period labels\n",
    "period_labels = [index for index in range(0, len(period_dates))]\n",
    "\n",
    "# Initializing a matrix with zeros (rows and columns for periods)\n",
    "same_day_matrix = np.zeros((len(period_dates), len(period_dates)), dtype=int)\n",
    "\n",
    "# Filling same_day matrix\n",
    "for i in range(len(period_dates)):\n",
    "    for j in range(len(period_dates)):\n",
    "        if period_dates[i] == period_dates[j]:   # Checking to see if date of period i and j are same\n",
    "            same_day_matrix[i, j] = 1            # If yes marking as 1\n",
    "\n",
    "same_day_df = pd.DataFrame(same_day_matrix, columns=period_labels, index=period_labels)"
   ]
  },
  {
   "cell_type": "markdown",
   "id": "cb7947cc",
   "metadata": {
    "id": "d25xuMrNZKR2",
    "papermill": {
     "duration": 0.004921,
     "end_time": "2025-04-02T14:13:24.644266",
     "exception": false,
     "start_time": "2025-04-02T14:13:24.639345",
     "status": "completed"
    },
    "tags": []
   },
   "source": [
    "### Room Processing"
   ]
  },
  {
   "cell_type": "code",
   "execution_count": 12,
   "id": "c924dfd0",
   "metadata": {
    "execution": {
     "iopub.execute_input": "2025-04-02T14:13:24.653785Z",
     "iopub.status.busy": "2025-04-02T14:13:24.653606Z",
     "iopub.status.idle": "2025-04-02T14:13:24.657984Z",
     "shell.execute_reply": "2025-04-02T14:13:24.657634Z"
    },
    "id": "N2fq8SFxZKR3",
    "papermill": {
     "duration": 0.010284,
     "end_time": "2025-04-02T14:13:24.658861",
     "exception": false,
     "start_time": "2025-04-02T14:13:24.648577",
     "status": "completed"
    },
    "tags": []
   },
   "outputs": [],
   "source": [
    "room_start_line = 3 + exam_lines + period_lines\n",
    "\n",
    "# Initializing lists to store room data\n",
    "room_data = []\n",
    "i = 0\n",
    "\n",
    "for index in range(room_start_line, room_start_line + room_lines):\n",
    "    if index < len(lines):\n",
    "        line_data = lines[index].split(',')\n",
    "\n",
    "        # Extracting size and penalty\n",
    "        room = i\n",
    "        size = int(line_data[0].strip())\n",
    "        penalty = int(line_data[1].strip())\n",
    "\n",
    "        room_data.append((room, size, penalty))\n",
    "        i += 1\n",
    "\n",
    "room_df = pd.DataFrame(room_data, columns=[\"ROOM\", \"sizeRoom\", \"weightRoom\"],).set_index(\"ROOM\")"
   ]
  },
  {
   "cell_type": "markdown",
   "id": "1f689ec0",
   "metadata": {
    "id": "MJHcLWMUZKR3",
    "papermill": {
     "duration": 0.004289,
     "end_time": "2025-04-02T14:13:24.667569",
     "exception": false,
     "start_time": "2025-04-02T14:13:24.663280",
     "status": "completed"
    },
    "tags": []
   },
   "source": [
    "### Period Hard Constraints Processing"
   ]
  },
  {
   "cell_type": "code",
   "execution_count": 13,
   "id": "7b17e7f4",
   "metadata": {
    "execution": {
     "iopub.execute_input": "2025-04-02T14:13:24.677078Z",
     "iopub.status.busy": "2025-04-02T14:13:24.676881Z",
     "iopub.status.idle": "2025-04-02T14:13:24.680483Z",
     "shell.execute_reply": "2025-04-02T14:13:24.680161Z"
    },
    "id": "z4UNCuH6ZKR3",
    "papermill": {
     "duration": 0.009462,
     "end_time": "2025-04-02T14:13:24.681294",
     "exception": false,
     "start_time": "2025-04-02T14:13:24.671832",
     "status": "completed"
    },
    "tags": []
   },
   "outputs": [],
   "source": [
    "periodHard_start_line = 4 + exam_lines + period_lines + room_lines\n",
    "\n",
    "# Initializing lists to store periodHard data\n",
    "after_data = []\n",
    "coincidence_data = []\n",
    "exclusion_data = []\n",
    "\n",
    "for index in range(periodHard_start_line, periodHard_start_line + periodHard_lines):\n",
    "    if index < len(lines):\n",
    "        line_data = lines[index].split(',')\n",
    "\n",
    "        # Extracting exams and type of constraint\n",
    "        fExam = int(line_data[0].strip())\n",
    "        operation = line_data[1].strip()\n",
    "        sExam = int(line_data[2].strip())\n",
    "\n",
    "        if operation == \"AFTER\":\n",
    "            after_data.append((fExam, sExam))\n",
    "        elif operation == \"EXAM_COINCIDENCE\":\n",
    "            coincidence_data.append((fExam, sExam))\n",
    "        elif operation == \"EXCLUSION\":\n",
    "            exclusion_data.append((fExam, sExam))"
   ]
  },
  {
   "cell_type": "markdown",
   "id": "600ef4c8",
   "metadata": {
    "id": "fw0W4KWOZKR3",
    "papermill": {
     "duration": 0.004416,
     "end_time": "2025-04-02T14:13:24.690053",
     "exception": false,
     "start_time": "2025-04-02T14:13:24.685637",
     "status": "completed"
    },
    "tags": []
   },
   "source": [
    "### Room Hard Constraints Processing"
   ]
  },
  {
   "cell_type": "code",
   "execution_count": 14,
   "id": "1a7016d1",
   "metadata": {
    "execution": {
     "iopub.execute_input": "2025-04-02T14:13:24.699341Z",
     "iopub.status.busy": "2025-04-02T14:13:24.699190Z",
     "iopub.status.idle": "2025-04-02T14:13:24.702299Z",
     "shell.execute_reply": "2025-04-02T14:13:24.701821Z"
    },
    "id": "90ILsFRRZKR3",
    "papermill": {
     "duration": 0.00859,
     "end_time": "2025-04-02T14:13:24.702944",
     "exception": false,
     "start_time": "2025-04-02T14:13:24.694354",
     "status": "completed"
    },
    "tags": []
   },
   "outputs": [],
   "source": [
    "roomHard_start_line = 5 + exam_lines + period_lines + room_lines + periodHard_lines\n",
    "\n",
    "# Initializing list to store roomHard penalties\n",
    "roomHard_data = []\n",
    "\n",
    "for index in range(roomHard_start_line, roomHard_start_line + roomHard_lines):\n",
    "    if index < len(lines):\n",
    "        line_data = lines[index].split(',')\n",
    "        exam = int(line_data[0].strip())\n",
    "\n",
    "        roomHard_data.append(exam)"
   ]
  },
  {
   "cell_type": "markdown",
   "id": "6f2b6403",
   "metadata": {
    "id": "7wB9__cyZKR3",
    "papermill": {
     "duration": 0.004336,
     "end_time": "2025-04-02T14:13:24.711640",
     "exception": false,
     "start_time": "2025-04-02T14:13:24.707304",
     "status": "completed"
    },
    "tags": []
   },
   "source": [
    "### Institutional Weightings Processing"
   ]
  },
  {
   "cell_type": "code",
   "execution_count": 15,
   "id": "85309f68",
   "metadata": {
    "execution": {
     "iopub.execute_input": "2025-04-02T14:13:24.720873Z",
     "iopub.status.busy": "2025-04-02T14:13:24.720734Z",
     "iopub.status.idle": "2025-04-02T14:13:24.724198Z",
     "shell.execute_reply": "2025-04-02T14:13:24.723679Z"
    },
    "id": "haYOHz9_ZKR3",
    "papermill": {
     "duration": 0.009008,
     "end_time": "2025-04-02T14:13:24.724935",
     "exception": false,
     "start_time": "2025-04-02T14:13:24.715927",
     "status": "completed"
    },
    "tags": []
   },
   "outputs": [],
   "source": [
    "weight_start_line = 6 + exam_lines + period_lines + room_lines + periodHard_lines + roomHard_lines\n",
    "\n",
    "# Initializing list to weights data\n",
    "weight_data = []\n",
    "\n",
    "for index in range(weight_start_line, weight_start_line + weight_lines):\n",
    "    if index < len(lines):\n",
    "        line_data = lines[index].strip().split(',')\n",
    "\n",
    "        # Extracting parameter and weight\n",
    "        key = line_data[0].strip()\n",
    "        if key != \"FRONTLOAD\":\n",
    "            weight_data.append((key, int(line_data[1].strip())))\n",
    "        elif key == \"FRONTLOAD\":\n",
    "            weight_data.append((key, int(line_data[3].strip())))\n",
    "\n",
    "weight_dict = {key: value for key, value in weight_data}"
   ]
  },
  {
   "cell_type": "markdown",
   "id": "f8b50790",
   "metadata": {
    "id": "tYA-jeGUxujz",
    "papermill": {
     "duration": 0.00447,
     "end_time": "2025-04-02T14:13:24.733971",
     "exception": false,
     "start_time": "2025-04-02T14:13:24.729501",
     "status": "completed"
    },
    "tags": []
   },
   "source": [
    "### Loading Exam, student and duration data"
   ]
  },
  {
   "cell_type": "code",
   "execution_count": 16,
   "id": "d81f57eb",
   "metadata": {
    "execution": {
     "iopub.execute_input": "2025-04-02T14:13:24.744979Z",
     "iopub.status.busy": "2025-04-02T14:13:24.744809Z",
     "iopub.status.idle": "2025-04-02T14:13:24.753960Z",
     "shell.execute_reply": "2025-04-02T14:13:24.753432Z"
    },
    "id": "6CPg9YzCxuTT",
    "papermill": {
     "duration": 0.015927,
     "end_time": "2025-04-02T14:13:24.754800",
     "exception": false,
     "start_time": "2025-04-02T14:13:24.738873",
     "status": "completed"
    },
    "tags": []
   },
   "outputs": [],
   "source": [
    "# Sending data from \"exam_df\" to AMPL and initializing set \"EXAM\"\n",
    "ampl.set_data(exam_df, \"EXAM\")\n",
    "# Setting the keys of \"STUDENT\" set in AMPL using \"student_exams\"\n",
    "ampl.getSet(\"STUDENT\").setValues(student_exams.keys())\n",
    "# Setting the values of parameter \"sizeStudent\" using \"student_size\"\n",
    "ampl.getParameter(\"sizeStudent\").setValues(student_size)\n",
    "# Setting the values of parameter \"enrolled\" using \"enrollment_df\"\n",
    "ampl.set['STUDENT_EXAMS'].setValues(student_exams)\n",
    "# Sending data from \"unique_durations\" to AMPL and initializing set \"DURATION\"\n",
    "ampl.getSet(\"DURATION\").setValues(duration_labels)\n",
    "# Setting the values of parameter \"duration\" using \"duration_df\"\n",
    "ampl.getParameter(\"duration\").setValues(duration_df)"
   ]
  },
  {
   "cell_type": "markdown",
   "id": "e9b047f6",
   "metadata": {
    "id": "xWw_bmxKZKR3",
    "papermill": {
     "duration": 0.004522,
     "end_time": "2025-04-02T14:13:24.764189",
     "exception": false,
     "start_time": "2025-04-02T14:13:24.759667",
     "status": "completed"
    },
    "tags": []
   },
   "source": [
    "### Loading Period data"
   ]
  },
  {
   "cell_type": "code",
   "execution_count": 17,
   "id": "52cca928",
   "metadata": {
    "execution": {
     "iopub.execute_input": "2025-04-02T14:13:24.774079Z",
     "iopub.status.busy": "2025-04-02T14:13:24.773903Z",
     "iopub.status.idle": "2025-04-02T14:13:24.777900Z",
     "shell.execute_reply": "2025-04-02T14:13:24.777423Z"
    },
    "id": "m6uznmuYZKR3",
    "papermill": {
     "duration": 0.009948,
     "end_time": "2025-04-02T14:13:24.778633",
     "exception": false,
     "start_time": "2025-04-02T14:13:24.768685",
     "status": "completed"
    },
    "tags": []
   },
   "outputs": [],
   "source": [
    "# Sending data from \"period_df\" to AMPL and initializing set \"PERIOD\"\n",
    "ampl.set_data(period_df, \"PERIOD\")\n",
    "# Setting the values of parameter \"same_day\" using \"same_day_df\"\n",
    "ampl.getParameter(\"same_day\").setValues(same_day_df)"
   ]
  },
  {
   "cell_type": "markdown",
   "id": "199ee765",
   "metadata": {
    "id": "LK1N7K92ZKR3",
    "papermill": {
     "duration": 0.004729,
     "end_time": "2025-04-02T14:13:24.787974",
     "exception": false,
     "start_time": "2025-04-02T14:13:24.783245",
     "status": "completed"
    },
    "tags": []
   },
   "source": [
    "### Loading Room data"
   ]
  },
  {
   "cell_type": "code",
   "execution_count": 18,
   "id": "cf57f955",
   "metadata": {
    "execution": {
     "iopub.execute_input": "2025-04-02T14:13:24.797574Z",
     "iopub.status.busy": "2025-04-02T14:13:24.797414Z",
     "iopub.status.idle": "2025-04-02T14:13:24.800176Z",
     "shell.execute_reply": "2025-04-02T14:13:24.799850Z"
    },
    "id": "ruGCv79kZKR4",
    "papermill": {
     "duration": 0.008476,
     "end_time": "2025-04-02T14:13:24.800885",
     "exception": false,
     "start_time": "2025-04-02T14:13:24.792409",
     "status": "completed"
    },
    "tags": []
   },
   "outputs": [],
   "source": [
    "# Sending data from \"room_df\" to AMPL and initializing set \"ROOM\"\n",
    "ampl.set_data(room_df, \"ROOM\")"
   ]
  },
  {
   "cell_type": "markdown",
   "id": "b05dee2c",
   "metadata": {
    "id": "jydUrB6CZKR4",
    "papermill": {
     "duration": 0.004506,
     "end_time": "2025-04-02T14:13:24.809935",
     "exception": false,
     "start_time": "2025-04-02T14:13:24.805429",
     "status": "completed"
    },
    "tags": []
   },
   "source": [
    "### Loading Period Hard Constraints data"
   ]
  },
  {
   "cell_type": "code",
   "execution_count": 19,
   "id": "d6648daf",
   "metadata": {
    "execution": {
     "iopub.execute_input": "2025-04-02T14:13:24.819598Z",
     "iopub.status.busy": "2025-04-02T14:13:24.819438Z",
     "iopub.status.idle": "2025-04-02T14:13:24.822337Z",
     "shell.execute_reply": "2025-04-02T14:13:24.821964Z"
    },
    "id": "_Fc9kChLZKR4",
    "papermill": {
     "duration": 0.00882,
     "end_time": "2025-04-02T14:13:24.823216",
     "exception": false,
     "start_time": "2025-04-02T14:13:24.814396",
     "status": "completed"
    },
    "tags": []
   },
   "outputs": [],
   "source": [
    "# Sending data from \"after_data\" to AMPL and intializing set \"AFTER\"\n",
    "ampl.getSet(\"AFTER\").setValues(after_data)\n",
    "# Sending data from \"coincidence_data\" to AMPL and intializing set \"COINCIDENCE\"\n",
    "ampl.getSet(\"COINCIDENCE\").setValues(coincidence_data)\n",
    "# Sending data from \"exclusion_data\" to AMPL and intializing set \"EXCLUSION\"\n",
    "ampl.getSet(\"EXCLUSION\").setValues(exclusion_data)"
   ]
  },
  {
   "cell_type": "markdown",
   "id": "d4fe2222",
   "metadata": {
    "id": "JzgkCjs0ZKR4",
    "papermill": {
     "duration": 0.004582,
     "end_time": "2025-04-02T14:13:24.832286",
     "exception": false,
     "start_time": "2025-04-02T14:13:24.827704",
     "status": "completed"
    },
    "tags": []
   },
   "source": [
    "### Loading Room Hard Constraint data"
   ]
  },
  {
   "cell_type": "code",
   "execution_count": 20,
   "id": "2f4c6444",
   "metadata": {
    "execution": {
     "iopub.execute_input": "2025-04-02T14:13:24.842263Z",
     "iopub.status.busy": "2025-04-02T14:13:24.841968Z",
     "iopub.status.idle": "2025-04-02T14:13:24.845201Z",
     "shell.execute_reply": "2025-04-02T14:13:24.844724Z"
    },
    "id": "rwBfuDuIZKR4",
    "papermill": {
     "duration": 0.009251,
     "end_time": "2025-04-02T14:13:24.846003",
     "exception": false,
     "start_time": "2025-04-02T14:13:24.836752",
     "status": "completed"
    },
    "tags": []
   },
   "outputs": [],
   "source": [
    "# Sending data from \"roomHard_data\" to AMPL and intializing set \"EXCLUSIVE\"\n",
    "ampl.getSet(\"EXCLUSIVE\").setValues(roomHard_data)"
   ]
  },
  {
   "cell_type": "markdown",
   "id": "e019b233",
   "metadata": {
    "id": "dtsAuo_FZKR4",
    "papermill": {
     "duration": 0.004608,
     "end_time": "2025-04-02T14:13:24.855864",
     "exception": false,
     "start_time": "2025-04-02T14:13:24.851256",
     "status": "completed"
    },
    "tags": []
   },
   "source": [
    "### Loading Institutional Weightings data"
   ]
  },
  {
   "cell_type": "code",
   "execution_count": 21,
   "id": "8f8d5160",
   "metadata": {
    "execution": {
     "iopub.execute_input": "2025-04-02T14:13:24.865995Z",
     "iopub.status.busy": "2025-04-02T14:13:24.865821Z",
     "iopub.status.idle": "2025-04-02T14:13:24.870231Z",
     "shell.execute_reply": "2025-04-02T14:13:24.869717Z"
    },
    "id": "LtoPcy21ZKR4",
    "papermill": {
     "duration": 0.010395,
     "end_time": "2025-04-02T14:13:24.871064",
     "exception": false,
     "start_time": "2025-04-02T14:13:24.860669",
     "status": "completed"
    },
    "tags": []
   },
   "outputs": [],
   "source": [
    "ampl.param[\"TWOINAROW\"] = weight_dict.get(\"TWOINAROW\", 1)\n",
    "ampl.param[\"TWOINADAY\"] = weight_dict.get(\"TWOINADAY\", 1)\n",
    "ampl.param[\"NONMIXEDDURATIONS\"] = weight_dict.get(\"NONMIXEDDURATIONS\", 1)\n",
    "ampl.param[\"FRONTLOAD\"] = weight_dict.get(\"FRONTLOAD\", 1)\n",
    "ampl.param[\"gPERIODSPREAD\"] = weight_dict.get(\"PERIODSPREAD\", 1)"
   ]
  },
  {
   "cell_type": "markdown",
   "id": "95eb7b42",
   "metadata": {
    "id": "2WFfwClbZKR4",
    "papermill": {
     "duration": 0.004475,
     "end_time": "2025-04-02T14:13:24.880399",
     "exception": false,
     "start_time": "2025-04-02T14:13:24.875924",
     "status": "completed"
    },
    "tags": []
   },
   "source": [
    "### Variables"
   ]
  },
  {
   "cell_type": "code",
   "execution_count": 22,
   "id": "4734aaf1",
   "metadata": {
    "execution": {
     "iopub.execute_input": "2025-04-02T14:13:24.890138Z",
     "iopub.status.busy": "2025-04-02T14:13:24.889973Z",
     "iopub.status.idle": "2025-04-02T14:13:24.892807Z",
     "shell.execute_reply": "2025-04-02T14:13:24.892398Z"
    },
    "id": "Te7d2nhsZKR4",
    "papermill": {
     "duration": 0.008758,
     "end_time": "2025-04-02T14:13:24.893581",
     "exception": false,
     "start_time": "2025-04-02T14:13:24.884823",
     "status": "completed"
    },
    "tags": []
   },
   "outputs": [],
   "source": [
    "%%ampl_eval\n",
    "# Primary Variables\n",
    "var X_P {EXAM, PERIOD} binary; \n",
    "var X_R {EXAM, ROOM} binary; \n",
    "var MI_R {EXAM, ROOM} >= 0, <= 1; \n",
    "\n",
    "# Secondary Variables for Penalties\n",
    "var C_2R {STUDENT} >= 0; \n",
    "var C_2D {STUDENT} >= 0; \n",
    "var C_PS {STUDENT} >= 0; \n",
    "var C_NMD >= 0;         \n",
    "var C_FL >= 0;          \n",
    "var C_P >= 0;           \n",
    "var C_R >= 0;           \n"
   ]
  },
  {
   "cell_type": "markdown",
   "id": "8642d501",
   "metadata": {
    "id": "qZ3MsLRgZKR4",
    "papermill": {
     "duration": 0.004513,
     "end_time": "2025-04-02T14:13:24.902646",
     "exception": false,
     "start_time": "2025-04-02T14:13:24.898133",
     "status": "completed"
    },
    "tags": []
   },
   "source": [
    "### Objective"
   ]
  },
  {
   "cell_type": "code",
   "execution_count": 23,
   "id": "166f9345",
   "metadata": {
    "execution": {
     "iopub.execute_input": "2025-04-02T14:13:24.912440Z",
     "iopub.status.busy": "2025-04-02T14:13:24.912294Z",
     "iopub.status.idle": "2025-04-02T14:13:24.914885Z",
     "shell.execute_reply": "2025-04-02T14:13:24.914489Z"
    },
    "id": "qJIC5YuEZKR4",
    "papermill": {
     "duration": 0.008293,
     "end_time": "2025-04-02T14:13:24.915579",
     "exception": false,
     "start_time": "2025-04-02T14:13:24.907286",
     "status": "completed"
    },
    "tags": []
   },
   "outputs": [],
   "source": [
    "%%ampl_eval\n",
    "# Objective Function\n",
    "\n",
    "minimize Total_Penalty:\n",
    "    sum {s in STUDENT} (TWOINAROW * C_2R[s] + TWOINADAY * C_2D[s] + PERIODSPREAD * C_PS[s]) * sizeStudent[s]\n",
    "    + NONMIXEDDURATIONS * C_NMD\n",
    "    + FRONTLOAD * C_FL\n",
    "    + C_P + C_R;"
   ]
  },
  {
   "cell_type": "markdown",
   "id": "5fc8c511",
   "metadata": {
    "id": "_TV_o9l7ZKR8",
    "papermill": {
     "duration": 0.004726,
     "end_time": "2025-04-02T14:13:24.924924",
     "exception": false,
     "start_time": "2025-04-02T14:13:24.920198",
     "status": "completed"
    },
    "tags": []
   },
   "source": [
    "### Hard Constraints"
   ]
  },
  {
   "cell_type": "code",
   "execution_count": 24,
   "id": "a847c28c",
   "metadata": {
    "execution": {
     "iopub.execute_input": "2025-04-02T14:13:24.934743Z",
     "iopub.status.busy": "2025-04-02T14:13:24.934590Z",
     "iopub.status.idle": "2025-04-02T14:13:24.937658Z",
     "shell.execute_reply": "2025-04-02T14:13:24.937329Z"
    },
    "id": "gcjlf8KSZKR8",
    "papermill": {
     "duration": 0.008862,
     "end_time": "2025-04-02T14:13:24.938409",
     "exception": false,
     "start_time": "2025-04-02T14:13:24.929547",
     "status": "completed"
    },
    "tags": []
   },
   "outputs": [],
   "source": [
    "%%ampl_eval\n",
    "# (10)\n",
    "s.t. AssignToOneRoom {i in EXAM}:\n",
    "    sum {r in ROOM} X_R[i, r] >= 1;\n",
    "# (11)\n",
    "s.t. AssignToOnePeriod {i in EXAM}:\n",
    "    sum {p in PERIOD} X_P[i, p] >= 1;\n",
    "# (12)\n",
    "s.t. RoomCapacity {p in PERIOD, r in ROOM}:\n",
    "    sum {i in EXAM} sizeExam[i] * X_P[i, p] * MI_R[i, r] <= sizeRoom[r];\n",
    "# (13)\n",
    "s.t. PeriodDuration {p in PERIOD, i in EXAM}:\n",
    "    durationExam[i] * X_P[i, p] <= durationPeriod[p];\n",
    "# (14)\n",
    "s.t. NoStudentConflict {p in PERIOD, s in STUDENT}:\n",
    "    sum {i in STUDENT_EXAMS[s]} X_P[i, p] <= 1;\n",
    "# (15)\n",
    "s.t. Precedence {(i, j) in AFTER, p in PERIOD, q in PERIOD: q >= p}:\n",
    "    X_P[i, p] + X_P[j, q] <= 1;\n",
    "# (16)\n",
    "s.t. Coincidence {(i, j) in COINCIDENCE, p in PERIOD}:\n",
    "    X_P[i, p] = X_P[j, p];\n",
    "# (17)\n",
    "s.t. Exclusion {(i, j) in EXCLUSION, p in PERIOD}:\n",
    "    X_P[i, p] + X_P[j, p] <= 1;\n",
    "# (18)\n",
    "s.t. HardRoomConstraints {i in EXCLUSIVE, j in EXAM, p in PERIOD, r in ROOM: j != i}:\n",
    "    (X_P[i, p] + X_R[i, r] + X_P[j, p] + X_R[j, r]) <= 3;\n",
    "# (29)\n",
    "s.t. MI_RUsage {i in EXAM, r in ROOM}:\n",
    "    MI_R[i, r] <= X_R[i, r];\n",
    "# (30)\n",
    "s.t. MI_count {i in EXAM}:\n",
    "    sum {r in ROOM} MI_R[i, r] == 1;\n"
   ]
  },
  {
   "cell_type": "markdown",
   "id": "d2e72ee2",
   "metadata": {
    "id": "vvUpyhk5ZKR8",
    "papermill": {
     "duration": 0.004569,
     "end_time": "2025-04-02T14:13:24.949088",
     "exception": false,
     "start_time": "2025-04-02T14:13:24.944519",
     "status": "completed"
    },
    "tags": []
   },
   "source": [
    "### Soft Constraints"
   ]
  },
  {
   "cell_type": "code",
   "execution_count": 25,
   "id": "cd9e586b",
   "metadata": {
    "execution": {
     "iopub.execute_input": "2025-04-02T14:13:24.959829Z",
     "iopub.status.busy": "2025-04-02T14:13:24.959652Z",
     "iopub.status.idle": "2025-04-02T14:13:24.963124Z",
     "shell.execute_reply": "2025-04-02T14:13:24.962725Z"
    },
    "id": "crSf_Bq0ZKR8",
    "papermill": {
     "duration": 0.01001,
     "end_time": "2025-04-02T14:13:24.963927",
     "exception": false,
     "start_time": "2025-04-02T14:13:24.953917",
     "status": "completed"
    },
    "tags": []
   },
   "outputs": [],
   "source": [
    "%%ampl_eval\n",
    "# (19)\n",
    "s.t. TwoInARowPenalty {s in STUDENT}:\n",
    "    C_2R[s] = sum {i in STUDENT_EXAMS[s], j in STUDENT_EXAMS[s], p in PERIOD, q in PERIOD: j != i && q = p + 1 && same_day[p, q] = 1}\n",
    "                  X_P[i, p] * X_P[j, q];\n",
    "# (20)\n",
    "s.t. TwoInADayPenalty {s in STUDENT}:\n",
    "    C_2D[s] = sum {i in STUDENT_EXAMS[s], j in STUDENT_EXAMS[s], p in PERIOD, q in PERIOD: j != i && q > p + 1 && same_day[p, q] = 1}\n",
    "                  X_P[i, p] * X_P[j, q];\n",
    "# (21)\n",
    "s.t. PeriodSpreadPenalty {s in STUDENT}:\n",
    "    C_PS[s] = sum {i in STUDENT_EXAMS[s], j in STUDENT_EXAMS[s], p in PERIOD, q in PERIOD: j != i && p < q && q <= p+gPERIODSPREAD}\n",
    "                  X_P[i, p] * X_P[j, q];\n",
    "\n",
    "# Auxiliary variables for C_NMD calculations\n",
    "var U_D {DURATION, PERIOD, ROOM} binary;  # 1 if a duration type d is assigned to (p, r)\n",
    "var C_NMD_pr {PERIOD, ROOM} >= 0;         # Non-negative penalty for period-room pair\n",
    "\n",
    "# (22)\n",
    "s.t. Define_U_D {d in DURATION, i in EXAM, p in PERIOD, r in ROOM: duration[i, d] = 1}:\n",
    "    U_D[d, p, r] >= X_P[i, p] + X_R[i, r] - 1;\n",
    "# (23)\n",
    "s.t. NonMixedDurationsPenalty {p in PERIOD, r in ROOM}:\n",
    "    1 + C_NMD_pr[p, r] >= sum {d in DURATION} U_D[d, p, r];\n",
    "# (24)\n",
    "# No additional code is required for this since its already handled by the variable declaration\n",
    "# (25)\n",
    "s.t. Total_NonMixedDurations_Penalty:\n",
    "    C_NMD = sum {p in PERIOD, r in ROOM} C_NMD_pr[p, r];\n",
    "# (26)\n",
    "s.t. FrontLoadPenalty:\n",
    "    C_FL = sum {i in EXAM, p in PERIOD} examFL[i] * periodFL[p] * X_P[i, p];\n",
    "# (27)\n",
    "s.t. SoftPeriodPenalty:\n",
    "    C_P = sum {p in PERIOD, i in EXAM} weightPeriod[p] * X_P[i, p];\n",
    "# (28)\n",
    "s.t. SoftRoomPenalty:\n",
    "    C_R = sum {r in ROOM, i in EXAM} weightRoom[r] * X_R[i, r];\n"
   ]
  },
  {
   "cell_type": "markdown",
   "id": "f2b2c839",
   "metadata": {
    "id": "6NnyUc2qxzIM",
    "papermill": {
     "duration": 0.004687,
     "end_time": "2025-04-02T14:13:24.973393",
     "exception": false,
     "start_time": "2025-04-02T14:13:24.968706",
     "status": "completed"
    },
    "tags": []
   },
   "source": [
    "# Solve with HiGHS"
   ]
  },
  {
   "cell_type": "code",
   "execution_count": 26,
   "id": "4fa1e7cf",
   "metadata": {
    "execution": {
     "iopub.execute_input": "2025-04-02T14:13:24.983498Z",
     "iopub.status.busy": "2025-04-02T14:13:24.983344Z",
     "iopub.status.idle": "2025-04-02T14:13:25.327150Z",
     "shell.execute_reply": "2025-04-02T14:13:25.326739Z"
    },
    "id": "11ojqR5JyVqB",
    "papermill": {
     "duration": 0.349998,
     "end_time": "2025-04-02T14:13:25.328124",
     "exception": false,
     "start_time": "2025-04-02T14:13:24.978126",
     "status": "completed"
    },
    "tags": []
   },
   "outputs": [
    {
     "name": "stdout",
     "output_type": "stream",
     "text": [
      "Gurobi 12.0.1: "
     ]
    },
    {
     "name": "stdout",
     "output_type": "stream",
     "text": [
      "  lim:time = 7200\n",
      "Set parameter LogToConsole to value 1\n",
      "  tech:outlev = 1\n"
     ]
    },
    {
     "name": "stdout",
     "output_type": "stream",
     "text": [
      "\n",
      "AMPL MP initial flat model has 288 variables (0 integer, 192 binary);\n",
      "Objectives: 1 linear; \n",
      "Constraints:  534 linear; 57 quadratic;\n",
      "\n",
      "AMPL MP final model has 288 variables (0 integer, 192 binary);\n",
      "Objectives: 1 linear; \n",
      "Constraints:  534 linear; 57 quadratic;\n",
      "\n",
      "\n",
      "Set parameter InfUnbdInfo to value 1\n",
      "Gurobi Optimizer version 12.0.1 build v12.0.1rc0 (linux64 - \"Ubuntu 24.04.2 LTS\")\n",
      "\n",
      "CPU model: Intel(R) Core(TM) i7-9750H CPU @ 2.60GHz, instruction set [SSE2|AVX|AVX2]\n",
      "Thread count: 6 physical cores, 12 logical processors, using up to 12 threads\n",
      "\n",
      "Non-default parameters:\n",
      "TimeLimit  7200\n",
      "InfUnbdInfo  1\n"
     ]
    },
    {
     "name": "stdout",
     "output_type": "stream",
     "text": [
      "\n",
      "Optimize a model with 534 rows, 288 columns and 1752 nonzeros\n",
      "Model fingerprint: 0xcda91d48\n",
      "Model has 57 quadratic constraints\n",
      "Variable types: 96 continuous, 192 integer (0 binary)\n",
      "Coefficient statistics:\n",
      "  Matrix range     [1e+00, 5e+01]\n",
      "  QMatrix range    [1e+00, 2e+02]\n",
      "  QLMatrix range   [1e+00, 1e+00]\n",
      "  Objective range  [1e+00, 1e+03]\n",
      "  Bounds range     [1e+00, 1e+00]\n",
      "  RHS range        [1e+00, 1e+00]\n",
      "  QRHS range       [8e+01, 1e+03]\n"
     ]
    },
    {
     "name": "stdout",
     "output_type": "stream",
     "text": [
      "Presolve removed 435 rows and 108 columns\n",
      "Presolve time: 0.00s\n",
      "Presolved: 957 rows, 990 columns, 3246 nonzeros\n"
     ]
    },
    {
     "name": "stdout",
     "output_type": "stream",
     "text": [
      "Variable types: 468 continuous, 522 integer (522 binary)\n"
     ]
    },
    {
     "name": "stdout",
     "output_type": "stream",
     "text": [
      "Found heuristic solution: objective 12394.000000\n"
     ]
    },
    {
     "name": "stdout",
     "output_type": "stream",
     "text": [
      "Found heuristic solution: objective 12384.000000\n"
     ]
    },
    {
     "name": "stdout",
     "output_type": "stream",
     "text": [
      "\n",
      "Root relaxation: objective 4.658182e+01, 365 iterations, 0.01 seconds (0.01 work units)\n"
     ]
    },
    {
     "name": "stdout",
     "output_type": "stream",
     "text": [
      "\n",
      "    Nodes    |    Current Node    |     Objective Bounds      |     Work\n",
      " Expl Unexpl |  Obj  Depth IntInf | Incumbent    BestBd   Gap | It/Node Time\n",
      "\n"
     ]
    },
    {
     "name": "stdout",
     "output_type": "stream",
     "text": [
      "     0     0   46.58182    0   64 12384.0000   46.58182   100%     -    0s\n"
     ]
    },
    {
     "name": "stdout",
     "output_type": "stream",
     "text": [
      "H    0     0                    12124.000000   46.58182   100%     -    0s\n"
     ]
    },
    {
     "name": "stdout",
     "output_type": "stream",
     "text": [
      "H    0     0                    5080.0000000   46.58182  99.1%     -    0s\n"
     ]
    },
    {
     "name": "stdout",
     "output_type": "stream",
     "text": [
      "H    0     0                    2840.0000000   46.58182  98.4%     -    0s\n"
     ]
    },
    {
     "name": "stdout",
     "output_type": "stream",
     "text": [
      "H    0     0                     435.0000000   46.58182  89.3%     -    0s\n"
     ]
    },
    {
     "name": "stdout",
     "output_type": "stream",
     "text": [
      "H    0     0                     285.0000000   46.58182  83.7%     -    0s\n"
     ]
    },
    {
     "name": "stdout",
     "output_type": "stream",
     "text": [
      "     0     0   46.58518    0   85  285.00000   46.58518  83.7%     -    0s\n"
     ]
    },
    {
     "name": "stdout",
     "output_type": "stream",
     "text": [
      "     0     0   46.58518    0   76  285.00000   46.58518  83.7%     -    0s\n"
     ]
    },
    {
     "name": "stdout",
     "output_type": "stream",
     "text": [
      "H    0     0                     270.0000000   46.58518  82.7%     -    0s\n"
     ]
    },
    {
     "name": "stdout",
     "output_type": "stream",
     "text": [
      "H    0     0                     245.0000000   46.58518  81.0%     -    0s\n"
     ]
    },
    {
     "name": "stdout",
     "output_type": "stream",
     "text": [
      "H    0     0                     240.0000000   46.58518  80.6%     -    0s\n"
     ]
    },
    {
     "name": "stdout",
     "output_type": "stream",
     "text": [
      "H    0     0                     215.0000000   46.58518  78.3%     -    0s\n"
     ]
    },
    {
     "name": "stdout",
     "output_type": "stream",
     "text": [
      "H    0     0                     150.0000000   46.58686  68.9%     -    0s\n"
     ]
    },
    {
     "name": "stdout",
     "output_type": "stream",
     "text": [
      "     0     0   46.58938    0   77  150.00000   46.58938  68.9%     -    0s\n"
     ]
    },
    {
     "name": "stdout",
     "output_type": "stream",
     "text": [
      "     0     0   59.90000    0   37  150.00000   59.90000  60.1%     -    0s\n"
     ]
    },
    {
     "name": "stdout",
     "output_type": "stream",
     "text": [
      "H    0     0                     145.0000000   59.90000  58.7%     -    0s\n"
     ]
    },
    {
     "name": "stdout",
     "output_type": "stream",
     "text": [
      "     0     0   59.90000    0   36  145.00000   59.90000  58.7%     -    0s\n"
     ]
    },
    {
     "name": "stdout",
     "output_type": "stream",
     "text": [
      "H    0     0                     140.0000000   84.84033  39.4%     -    0s\n"
     ]
    },
    {
     "name": "stdout",
     "output_type": "stream",
     "text": [
      "     0     0   84.84033    0   58  140.00000   84.84033  39.4%     -    0s\n"
     ]
    },
    {
     "name": "stdout",
     "output_type": "stream",
     "text": [
      "H    0     0                     135.0000000   86.11870  36.2%     -    0s\n"
     ]
    },
    {
     "name": "stdout",
     "output_type": "stream",
     "text": [
      "     0     0   89.76374    0   65  135.00000   89.76374  33.5%     -    0s\n"
     ]
    },
    {
     "name": "stdout",
     "output_type": "stream",
     "text": [
      "     0     0   89.76374    0   63  135.00000   89.76374  33.5%     -    0s\n"
     ]
    },
    {
     "name": "stdout",
     "output_type": "stream",
     "text": [
      "     0     0   89.76374    0   63  135.00000   89.76374  33.5%     -    0s\n"
     ]
    },
    {
     "name": "stdout",
     "output_type": "stream",
     "text": [
      "     0     0   96.59103    0   62  135.00000   96.59103  28.5%     -    0s\n"
     ]
    },
    {
     "name": "stdout",
     "output_type": "stream",
     "text": [
      "     0     0   96.59103    0   54  135.00000   96.59103  28.5%     -    0s\n"
     ]
    },
    {
     "name": "stdout",
     "output_type": "stream",
     "text": [
      "     0     0   96.59103    0   64  135.00000   96.59103  28.5%     -    0s\n"
     ]
    },
    {
     "name": "stdout",
     "output_type": "stream",
     "text": [
      "     0     0   96.59103    0   53  135.00000   96.59103  28.5%     -    0s\n"
     ]
    },
    {
     "name": "stdout",
     "output_type": "stream",
     "text": [
      "     0     0   96.59103    0   65  135.00000   96.59103  28.5%     -    0s\n"
     ]
    },
    {
     "name": "stdout",
     "output_type": "stream",
     "text": [
      "     0     0   96.59103    0   65  135.00000   96.59103  28.5%     -    0s\n"
     ]
    },
    {
     "name": "stdout",
     "output_type": "stream",
     "text": [
      "     0     0   96.60513    0   66  135.00000   96.60513  28.4%     -    0s\n"
     ]
    },
    {
     "name": "stdout",
     "output_type": "stream",
     "text": [
      "     0     0   97.20114    0   62  135.00000   97.20114  28.0%     -    0s\n"
     ]
    },
    {
     "name": "stdout",
     "output_type": "stream",
     "text": [
      "     0     0   97.27913    0   47  135.00000   97.27913  27.9%     -    0s\n"
     ]
    },
    {
     "name": "stdout",
     "output_type": "stream",
     "text": [
      "     0     2  100.78389    0   47  135.00000  100.78389  25.3%     -    0s\n"
     ]
    },
    {
     "name": "stdout",
     "output_type": "stream",
     "text": [
      "\n",
      "Cutting planes:\n",
      "  Gomory: 11\n",
      "  Cover: 5\n",
      "  Implied bound: 17\n"
     ]
    },
    {
     "name": "stdout",
     "output_type": "stream",
     "text": [
      "  Clique: 3\n",
      "  MIR: 21\n",
      "  Flow cover: 31\n",
      "  RLT: 58\n",
      "  PSD: 1\n"
     ]
    },
    {
     "name": "stdout",
     "output_type": "stream",
     "text": [
      "\n"
     ]
    },
    {
     "name": "stdout",
     "output_type": "stream",
     "text": [
      "Explored 80 nodes (7329 simplex iterations) in 0.32 seconds (0.21 work units)\n",
      "Thread count was 12 (of 12 available processors)\n"
     ]
    },
    {
     "name": "stdout",
     "output_type": "stream",
     "text": [
      "\n",
      "Solution count 10: 135 140 145 ... 435\n",
      "\n"
     ]
    },
    {
     "name": "stdout",
     "output_type": "stream",
     "text": [
      "Optimal solution found (tolerance 1.00e-04)\n"
     ]
    },
    {
     "name": "stdout",
     "output_type": "stream",
     "text": [
      "Best objective 1.350000000000e+02, best bound 1.350000000000e+02, gap 0.0000%\n"
     ]
    },
    {
     "name": "stdout",
     "output_type": "stream",
     "text": [
      "Gurobi 12.0.1: optimal solution; objective 135\n",
      "7329 simplex iterations\n",
      "80 branching nodes\n"
     ]
    },
    {
     "name": "stdout",
     "output_type": "stream",
     "text": [
      "Objective is: 135.0\n"
     ]
    }
   ],
   "source": [
    "# Specifying the solver to use\n",
    "ampl.option[\"solver\"] = \"gurobi\"\n",
    "# Setting time limit of 2 hours\n",
    "ampl.option['gurobi_options'] = 'timelimit=7200  outlev=1'\n",
    "# Solving\n",
    "ampl.solve()\n",
    "# Stopping if the model was not solved\n",
    "assert ampl.get_value(\"solve_result\") == \"solved\"\n",
    "# Getting objective entity by AMPL name\n",
    "totalpenalty = ampl.get_objective(\"Total_Penalty\")\n",
    "print(\"Objective is:\", totalpenalty.value())"
   ]
  },
  {
   "cell_type": "code",
   "execution_count": 27,
   "id": "8ab59296",
   "metadata": {
    "execution": {
     "iopub.execute_input": "2025-04-02T14:13:25.342540Z",
     "iopub.status.busy": "2025-04-02T14:13:25.342389Z",
     "iopub.status.idle": "2025-04-02T14:13:25.359344Z",
     "shell.execute_reply": "2025-04-02T14:13:25.358882Z"
    },
    "id": "f_Ubl_pAZssb",
    "papermill": {
     "duration": 0.024834,
     "end_time": "2025-04-02T14:13:25.360266",
     "exception": false,
     "start_time": "2025-04-02T14:13:25.335432",
     "status": "completed"
    },
    "tags": []
   },
   "outputs": [],
   "source": [
    "# Retrieving X_P, X_R and MI_R variables and converting to a Pandas DataFrame\n",
    "X_P = ampl.get_variable(\"X_P\").to_pandas()\n",
    "X_R = ampl.get_variable(\"X_R\").to_pandas()\n",
    "MI_R = ampl.get_variable(\"MI_R\").to_pandas()\n",
    "\n",
    "# Renaming the indexes on the Pandas DataFrame\n",
    "X_P.index.names = [\"EXAM\", \"PERIOD\"]\n",
    "X_R.index.names = [\"EXAM\", \"ROOM\"]\n",
    "MI_R.index.names = [\"EXAM\", \"ROOM\"]\n",
    "\n",
    "# Getting penalty values from AMPL\n",
    "C_2R = ampl.get_variable(\"C_2R\").to_pandas()  # TwoInARowPenalty\n",
    "C_2D = ampl.get_variable(\"C_2D\").to_pandas()  # TwoInADayPenalty\n",
    "C_PS = ampl.get_variable(\"C_PS\").to_pandas()  # PeriodSpreadPenalty\n",
    "C_NMD = ampl.get_variable(\"C_NMD\").to_pandas()  # Total_NonMixedDurations_Penalty\n",
    "C_FL = ampl.get_variable(\"C_FL\").to_pandas()  # FrontLoadPenalty\n",
    "C_P = ampl.get_variable(\"C_P\").to_pandas()  # SoftPeriodPenalty\n",
    "C_R = ampl.get_variable(\"C_R\").to_pandas()  # SoftRoomPenalty\n",
    "\n",
    "# Computing totals\n",
    "total_C_2R = C_2R[\"C_2R.val\"].sum()\n",
    "total_C_2D = C_2D[\"C_2D.val\"].sum()\n",
    "total_C_PS = C_PS[\"C_PS.val\"].sum()\n",
    "total_C_NMD = C_NMD[\"C_NMD.val\"].sum() \n",
    "total_C_FL = C_FL[\"C_FL.val\"].sum() \n",
    "total_C_P = C_P[\"C_P.val\"].sum()\n",
    "total_C_R = C_R[\"C_R.val\"].sum()\n",
    "\n",
    "with open(solution_file_path, \"w\") as file:\n",
    "    file.write(X_P.to_string() + \"\\n\\n\")\n",
    "    file.write(X_R.to_string() + \"\\n\\n\")\n",
    "    file.write(MI_R.to_string() + \"\\n\\n\")\n",
    "    file.write(f\"Two In A Row Penalty: {total_C_2R}\\n\")\n",
    "    file.write(f\"Two In A Day Penalty: {total_C_2D}\\n\")\n",
    "    file.write(f\"Period Spread Penalty: {total_C_PS}\\n\")\n",
    "    file.write(f\"Non-Mixed Durations Penalty: {total_C_NMD}\\n\")\n",
    "    file.write(f\"Front Load Penalty: {total_C_FL}\\n\")\n",
    "    file.write(f\"Soft Period Penalty: {total_C_P}\\n\")\n",
    "    file.write(f\"Soft Room Penalty: {total_C_R}\\n\")"
   ]
  }
 ],
 "metadata": {
  "colab": {
   "provenance": []
  },
  "kernelspec": {
   "display_name": "Python 3",
   "language": "python",
   "name": "python3"
  },
  "language_info": {
   "codemirror_mode": {
    "name": "ipython",
    "version": 3
   },
   "file_extension": ".py",
   "mimetype": "text/x-python",
   "name": "python",
   "nbconvert_exporter": "python",
   "pygments_lexer": "ipython3",
   "version": "3.12.3"
  },
  "papermill": {
   "default_parameters": {},
   "duration": 8.31001,
   "end_time": "2025-04-02T14:13:25.581718",
   "environment_variables": {},
   "exception": null,
   "input_path": "ITC07.ipynb",
   "output_path": "notebooks/test_set3.ipynb",
   "parameters": {
    "input_file_path": "datasets/exam_test_set3.exam",
    "solution_file_path": "solutions/solutiontest_set3.txt"
   },
   "start_time": "2025-04-02T14:13:17.271708",
   "version": "2.6.0"
  }
 },
 "nbformat": 4,
 "nbformat_minor": 5
}