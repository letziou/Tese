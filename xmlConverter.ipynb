{
 "cells": [
  {
   "cell_type": "markdown",
   "metadata": {},
   "source": [
    "## Python Notebook to convert exam timetabling xml files to .exam \n",
    "\n",
    "### File paths"
   ]
  },
  {
   "cell_type": "code",
   "execution_count": 16,
   "metadata": {},
   "outputs": [],
   "source": [
    "input_file_path = 'xml\\\\pu-exam-fal08.xml'\n",
    "output_file_path = 'xml\\\\exam-xml-conversion.exam'"
   ]
  },
  {
   "cell_type": "markdown",
   "metadata": {},
   "source": [
    "### Import"
   ]
  },
  {
   "cell_type": "code",
   "execution_count": 17,
   "metadata": {},
   "outputs": [],
   "source": [
    "from lxml import etree\n",
    "from itertools import combinations"
   ]
  },
  {
   "cell_type": "markdown",
   "metadata": {},
   "source": [
    "### XML file"
   ]
  },
  {
   "cell_type": "code",
   "execution_count": 18,
   "metadata": {},
   "outputs": [],
   "source": [
    "# XML tree and root\n",
    "tree = etree.parse(input_file_path)\n",
    "root = tree.getroot()"
   ]
  },
  {
   "cell_type": "markdown",
   "metadata": {},
   "source": [
    "### Period extraction"
   ]
  },
  {
   "cell_type": "code",
   "execution_count": 19,
   "metadata": {},
   "outputs": [],
   "source": [
    "periods = root.find(\"periods\").findall(\"period\")\n",
    "\n",
    "formatted_periods = []\n",
    "\n",
    "for period in periods:\n",
    "    id = period.get(\"id\")               # Extracting id of period (e.g., 'id': '10')\n",
    "    day = period.get(\"day\")             # Extracting day and date of period (e.g., 'day': 'Mon 12/15')\n",
    "    time = period.get(\"time\")           # Extracting time of period (e.g., 'time': '3:20p - 5:20p') \n",
    "    length = period.get(\"length\")       # Extracting length of period (e.g., 'length': '120')\n",
    "    penalty = period.get(\"penalty\")     # Extracting penalty of period (e.g., 'penalty': '0')\n",
    "\n",
    "    # Splitting and converting date\n",
    "    _, date_part = day.split()  # Extracting date part (e.g., '12/15')\n",
    "    month, day = date_part.split(\"/\")  # Splitting day and month\n",
    "    formatted_date = f\"{day}:{month}:2025\"  # Converting to \"day:month:2025\"\n",
    "\n",
    "    # Extracting the starting time\n",
    "    start_time = time.split(\" - \")[0]\n",
    "    \n",
    "    # Converting AM/PM to 24-hour format\n",
    "    if start_time[-1] == 'a':  # Morning time\n",
    "        hour, minute = start_time[:-1].split(\":\")\n",
    "        hour = hour.zfill(2)  # Ensuring two-digit format (e.g., \"08\")\n",
    "    else:  # Afternoon (PM)\n",
    "        hour, minute = start_time[:-1].split(\":\")\n",
    "        hour = str(int(hour) + 12) if hour != \"12\" else \"12\"\n",
    "\n",
    "    # Formatting time (e.g., \"08:00:00\")\n",
    "    formatted_time = f\"{hour}:{minute}:00\"\n",
    "    \n",
    "    # Combining all\n",
    "    formatted_string = f\"{formatted_date}, {formatted_time}, {length}, {penalty}\"\n",
    "    formatted_periods.append(formatted_string)\n",
    "\n",
    "# Creation of starting string for Periods element\n",
    "period_starting_string = f\"[Periods:{id}]\""
   ]
  },
  {
   "cell_type": "markdown",
   "metadata": {},
   "source": [
    "### Room"
   ]
  },
  {
   "cell_type": "code",
   "execution_count": 20,
   "metadata": {},
   "outputs": [],
   "source": [
    "rooms = root.find(\"rooms\").findall(\"room\")\n",
    "\n",
    "formatted_rooms = []\n",
    "\n",
    "for room in rooms:  \n",
    "    id = int(room.get(\"id\"))      # Exctracting id of room (e.g., 'id': '10')\n",
    "    size = int(room.get(\"size\"))  # Extracting size of room (e.g., 'size': '10')\n",
    "    \n",
    "    # Checking for existence of <period> elements  \n",
    "    if room.findall(\"period\"):\n",
    "        # Extracting all penalties from <period> elements\n",
    "        penalties = [int(period.get(\"penalty\", 0)) for period in room.findall(\"period\")]\n",
    "        \n",
    "        # Checking if all penalties are the same\n",
    "        penalty_value = penalties[0] if penalties and all(p == penalties[0] for p in penalties) else 0\n",
    "    else: \n",
    "        penalty_value = 0\n",
    "    \n",
    "    # Combining all\n",
    "    formatted_string = f\"{size}, {penalty_value}\"\n",
    "    formatted_rooms.append(formatted_string)\n",
    "\n",
    "# Creation of starting string for Rooms element\n",
    "room_starting_string = f\"[Rooms:{id}]\""
   ]
  },
  {
   "cell_type": "markdown",
   "metadata": {},
   "source": [
    "### Exams"
   ]
  },
  {
   "cell_type": "code",
   "execution_count": 21,
   "metadata": {},
   "outputs": [],
   "source": [
    "exams = root.find(\"exams\").findall(\"exam\")\n",
    "\n",
    "# Dictionary to store length of exams\n",
    "exam_lengths = {}\n",
    "\n",
    "for exam in exams:\n",
    "    id = int (exam.get(\"id\"))           # Extracting id of exam (e.g., 'id': '10')\n",
    "    length = int(exam.get(\"length\"))    # Extracting length of exam (e.g., 'length': '120')\n",
    "\n",
    "    exam_lengths[id] = length\n",
    "\n",
    "students = root.find(\"students\").findall(\"student\")\n",
    "\n",
    "# Dictionary to store students for each exam\n",
    "exam_students = {}\n",
    "\n",
    "for student in students:\n",
    "    student_id = int(student.get(\"id\"))                                         # Extracting id of student (e.g., 'id': '10')\n",
    "    exams_list = [int(exam.get(\"id\")) for exam in student.findall(\"exam\")]      # Extracting exams of sudent (e.g., 'exam': '[2173, 302, 1546, 493] ')\n",
    "\n",
    "    for exam_id in exams_list:\n",
    "        if exam_id not in exam_students:                # Checking if exam is in dictionary\n",
    "            exam_students[exam_id] = []                 # Initializing if not\n",
    "        exam_students[exam_id].append(student_id)       # Appending student to exam\n",
    "\n",
    "# Creation of starting string for Exams element\n",
    "exam_starting_string = f\"[Exams:{id}]\""
   ]
  },
  {
   "cell_type": "markdown",
   "metadata": {},
   "source": [
    "### Constraints\n",
    "\n",
    "\n",
    "AFTER            -- precedence 2 A 1 B\n",
    "\n",
    "EXAM_COINCIDENCE -- same-period\n",
    "\n",
    "EXCLUSION        -- different-period do for each exams\n",
    "\n",
    "EXCLUSIVE        -- none "
   ]
  },
  {
   "cell_type": "code",
   "execution_count": 22,
   "metadata": {},
   "outputs": [],
   "source": [
    "# After\n",
    "after_constraints = root.find(\"constraints\").findall(\"precedence\")\n",
    "\n",
    "after_constraint_list = []\n",
    "\n",
    "for after_constraint in after_constraints:\n",
    "    exam_ids = [int(exam.get(\"id\")) for exam in after_constraint.findall(\"exam\")]   # Extracting ids of exams (e.g., 'id': '10') \n",
    "\n",
    "    if len(exam_ids) == 2:  # Ensuring there are exactly two exams\n",
    "        after_constraint_list.append(f\"{exam_ids[1]}, AFTER, {exam_ids[0]}\")\n",
    "\n",
    "# Coincidence\n",
    "coincidence_constraints = root.find(\"constraints\").findall(\"same-period\")\n",
    "\n",
    "coincidence_constraint_list = []\n",
    "\n",
    "for coincidence_constraint in coincidence_constraints:\n",
    "    exam_ids = [int(exam.get(\"id\")) for exam in coincidence_constraint.findall(\"exam\")]   # Extracting ids of exams (e.g., 'id': '10')\n",
    "\n",
    "    for i in range(1, len(exam_ids)):   # Creating pairs (first exam with each of the others)\n",
    "        coincidence_constraint_list.append(f\"{exam_ids[0]}, EXAM_COINCIDENCE, {exam_ids[i]}\")\n",
    "\n",
    "# Exclusion\n",
    "exclusion_constraints = root.find(\"constraints\").findall(\"different-period\")\n",
    "\n",
    "exclusion_constraint_list = []\n",
    "\n",
    "for exclusion_constraint in exclusion_constraints:\n",
    "    exam_ids = [int(exam.get(\"id\")) for exam in exclusion_constraint.findall(\"exam\")]   # Extracting ids of exams (e.g., 'id': '10')\n",
    "\n",
    "    for exam1, exam2 in combinations(exam_ids, 2):\n",
    "        exclusion_constraint_list.append(f\"{exam1}, EXCLUSION, {exam2}\")\n",
    "\n",
    "# Creation of starting string for PeriodHardConstraints element\n",
    "period_hard_constraints_starting_string = \"[PeriodHardConstraints]\"\n",
    "\n",
    "# Creation of string for RoomHardConstraints element\n",
    "room_hard_constraints_string = \"[RoomHardConstraints]\""
   ]
  },
  {
   "cell_type": "markdown",
   "metadata": {},
   "source": [
    "### InstitutionalWeightings\n",
    "\n",
    "TWOINAROW:  backToBackConflictWeight\n",
    "\n",
    "TWOINADAY:  moreThanTwoADayWeight / 10\n",
    "\n",
    "PERIODSPREAD: 5 do to no value being presented in the file\n",
    "\n",
    "NONMIXEDDURATIONS: 10 do to no value being presented in the file\n",
    "\n",
    "FRONTLOAD: 100,30,5  do to no value being presented in the file"
   ]
  },
  {
   "cell_type": "code",
   "execution_count": 23,
   "metadata": {},
   "outputs": [],
   "source": [
    "parameters = root.find(\"parameters\").findall(\"property\")\n",
    "\n",
    "parameter_list = []\n",
    "\n",
    "for parameter in parameters:\n",
    "    if parameter.get(\"name\") == \"backToBackConflictWeight\":\n",
    "        parameter_list.append(f\"TWOINAROW, {int(float(parameter.get(\"value\")))}\")       # Extracting value of parameter (e.g., 'value': '10')\n",
    "    if parameter.get(\"name\") == \"moreThanTwoADayWeight\":\n",
    "        parameter_list.append(f\"TWOINADAY, {int(float(parameter.get(\"value\")) / 10)}\")  # Extracting value of parameter (e.g., 'value': '10') then dividing by 10\n",
    "\n",
    "# Creation of string for InstitutionalWeightings element\n",
    "parameter_starting_string = \"[InstitutionalWeightings]\"\n",
    "\n",
    "parameter_list.append(\"PERIODSPREAD, 5\")\n",
    "parameter_list.append(\"NONMIXEDDURATIONS,10\")\n",
    "parameter_list.append(\"FRONTLOAD,100,30,5\")"
   ]
  },
  {
   "cell_type": "markdown",
   "metadata": {},
   "source": [
    "### File creation"
   ]
  },
  {
   "cell_type": "code",
   "execution_count": 24,
   "metadata": {},
   "outputs": [],
   "source": [
    "with open(output_file_path, 'w') as file:\n",
    "        file.write(exam_starting_string)\n",
    "        file.write(\"\\n\")\n",
    "        for exam_id in exam_lengths:\n",
    "                students_str = \", \".join(map(str, exam_students.get(exam_id, [])))\n",
    "                file.write(f\"{exam_lengths[exam_id]}, {students_str}\")\n",
    "                file.write(\"\\n\")\n",
    "        file.write(period_starting_string)\n",
    "        file.write(\"\\n\")\n",
    "        for fp in formatted_periods:\n",
    "                file.write(fp)\n",
    "                file.write(\"\\n\")\n",
    "        file.write(room_starting_string)\n",
    "        file.write(\"\\n\")\n",
    "        for fr in formatted_rooms:\n",
    "                file.write(fr)\n",
    "                file.write(\"\\n\")\n",
    "        file.write(period_hard_constraints_starting_string)\n",
    "        file.write(\"\\n\")\n",
    "        for acl in after_constraint_list:\n",
    "                file.write(acl)\n",
    "                file.write(\"\\n\")\n",
    "        for ccl in coincidence_constraint_list:\n",
    "                file.write(ccl)\n",
    "                file.write(\"\\n\")\n",
    "        for ecl in exclusion_constraint_list:\n",
    "                file.write(ecl)\n",
    "                file.write(\"\\n\")\n",
    "        file.write(room_hard_constraints_string)\n",
    "        file.write(\"\\n\")\n",
    "        file.write(parameter_starting_string)\n",
    "        file.write(\"\\n\")\n",
    "        for pl in parameter_list:\n",
    "                file.write(pl)\n",
    "                file.write(\"\\n\")\n",
    "        "
   ]
  }
 ],
 "metadata": {
  "kernelspec": {
   "display_name": "base",
   "language": "python",
   "name": "python3"
  },
  "language_info": {
   "codemirror_mode": {
    "name": "ipython",
    "version": 3
   },
   "file_extension": ".py",
   "mimetype": "text/x-python",
   "name": "python",
   "nbconvert_exporter": "python",
   "pygments_lexer": "ipython3",
   "version": "3.12.7"
  }
 },
 "nbformat": 4,
 "nbformat_minor": 2
}
